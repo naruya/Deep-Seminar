{
 "cells": [
  {
   "cell_type": "markdown",
   "metadata": {
    "id": "Sjv5haiCBqU1"
   },
   "source": [
    "# 誤差逆伝播と自動微分\n"
   ]
  },
  {
   "cell_type": "markdown",
   "metadata": {
    "id": "7baJia9AMCor"
   },
   "source": [
    "# 自動微分\n",
    "\n",
    "まずは触ってみましょう！"
   ]
  },
  {
   "cell_type": "code",
   "execution_count": 1,
   "metadata": {
    "id": "BjATA_TQrl0h"
   },
   "outputs": [],
   "source": [
    "import torch"
   ]
  },
  {
   "cell_type": "markdown",
   "metadata": {
    "id": "y_iyKsSvHiEG"
   },
   "source": [
    "1次関数の微分"
   ]
  },
  {
   "cell_type": "code",
   "execution_count": 2,
   "metadata": {
    "id": "cvY5Ix3nDET2"
   },
   "outputs": [
    {
     "name": "stdout",
     "output_type": "stream",
     "text": [
      "(tensor([2.]),)\n",
      "(tensor([2.]),)\n"
     ]
    }
   ],
   "source": [
    "x = torch.tensor([1.], requires_grad=True)\n",
    "\n",
    "y = x*2\n",
    "print(torch.autograd.grad(y, x))  # dy/dx|x=1 = 2 (1次関数なのでxの値に関係ない)\n",
    "\n",
    "x = torch.tensor([3.], requires_grad=True)\n",
    "\n",
    "y = x*2\n",
    "print(torch.autograd.grad(y, x))  # dy/dx|x=3 = ?? (1次関数なのでxの値に関係ない)"
   ]
  },
  {
   "cell_type": "markdown",
   "metadata": {
    "id": "NkwpiblfHkwn"
   },
   "source": [
    "高次関数の微分\n",
    "- 深層学習で二乗はたまに出現します(誤差関数など)"
   ]
  },
  {
   "cell_type": "code",
   "execution_count": 3,
   "metadata": {
    "id": "88W67VyGDKfF"
   },
   "outputs": [
    {
     "name": "stdout",
     "output_type": "stream",
     "text": [
      "(tensor([6.]),)\n",
      "(tensor([27.]),)\n"
     ]
    }
   ],
   "source": [
    "x = torch.tensor([3.], requires_grad=True)\n",
    "\n",
    "y = x**2\n",
    "print(torch.autograd.grad(y, x))  # dy/dx|x=3 = ??\n",
    "\n",
    "y = x**3\n",
    "print(torch.autograd.grad(y, x))  # dy/dx|x=3 = ??"
   ]
  },
  {
   "cell_type": "code",
   "execution_count": 4,
   "metadata": {
    "id": "J_baWYQAD3wC"
   },
   "outputs": [
    {
     "name": "stdout",
     "output_type": "stream",
     "text": [
      "(tensor([8.]),)\n"
     ]
    }
   ],
   "source": [
    "x = torch.tensor([3.], requires_grad=True)\n",
    "\n",
    "y = x**2 + x*2 + 2\n",
    "print(torch.autograd.grad(y, x))  # dy/dx|x=3 = ??\n",
    "\n",
    "# メモリ使用量を抑えるため一度微分されるとyと他の変数の関係は捨てられることに注意\n",
    "# print(torch.autograd.grad(y, x))"
   ]
  },
  {
   "cell_type": "markdown",
   "metadata": {
    "id": "HXlLevGDIAEB"
   },
   "source": [
    "二階微分\n",
    "- 深層学習では普通は使わないですが使うときもあります\n",
    "  - [\\[DL輪読会\\] DeepLearningと曲がったパラメータ空間](https://www.slideshare.net/DeepLearningJP2016/dldeeplearning-scalable-trustregion-method-for-deep-reinforcement-learning-using-kroneckerfactored-approximation)\n",
    "  - [\\[DL輪読会\\]1次近似系MAMLとその理論的背景](https://www.slideshare.net/DeepLearningJP2016/dl1maml)"
   ]
  },
  {
   "cell_type": "code",
   "execution_count": 5,
   "metadata": {
    "id": "WmtGS-F1E0P_"
   },
   "outputs": [
    {
     "name": "stdout",
     "output_type": "stream",
     "text": [
      "(tensor([17.], grad_fn=<AddBackward0>),)\n",
      "(tensor([14.], grad_fn=<AddBackward0>),)\n",
      "(tensor([6.]),)\n"
     ]
    }
   ],
   "source": [
    "# create_graphをTrueにしないと他の変数との関係が保存されず微分できないので注意\n",
    "x = torch.tensor([2.], requires_grad=True)\n",
    "\n",
    "y = x**3 + x**2 + x + 1\n",
    "\n",
    "dy = torch.autograd.grad(y, x, create_graph=True)  # 3x**2 + 2x + 1 | x=2\n",
    "print(dy)\n",
    "\n",
    "ddy = torch.autograd.grad(dy[0], x, create_graph=True)  # ??\n",
    "print(ddy)\n",
    "\n",
    "dddy = torch.autograd.grad(ddy[0], x)  # ??\n",
    "print(dddy)"
   ]
  },
  {
   "cell_type": "markdown",
   "metadata": {
    "id": "qsyqfQ6UKvhZ"
   },
   "source": [
    "適当な関数も微分してみましょう\n",
    "\n",
    "- いろんな関数が実装されています: https://pytorch.org/docs/stable/torch.html#math-operations"
   ]
  },
  {
   "cell_type": "code",
   "execution_count": 6,
   "metadata": {
    "id": "oc_mnxJQJyXS"
   },
   "outputs": [
    {
     "name": "stdout",
     "output_type": "stream",
     "text": [
      "exp\n",
      "tensor([2.7183], grad_fn=<ExpBackward>)\n",
      "(tensor([2.7183], grad_fn=<MulBackward0>),)\n",
      "(tensor([2.7183], grad_fn=<MulBackward0>),)\n",
      "(tensor([2.7183]),)\n",
      "\n",
      "sin\n",
      "tensor([0.0006], grad_fn=<SinBackward>)\n",
      "(tensor([-1.0000], grad_fn=<MulBackward0>),)\n",
      "(tensor([-0.0006], grad_fn=<MulBackward0>),)\n",
      "(tensor([1.0000]),)\n"
     ]
    }
   ],
   "source": [
    "print(\"exp\")\n",
    "x = torch.tensor([1.], requires_grad=True)\n",
    "y = torch.exp(x)                                        # e^x\n",
    "dy = torch.autograd.grad(y, x, create_graph=True)       # e^x\n",
    "ddy = torch.autograd.grad(dy[0], x, create_graph=True)  # e^x\n",
    "dddy = torch.autograd.grad(ddy[0], x)                   # e^x\n",
    "print(y); print(dy); print(ddy); print(dddy)\n",
    "\n",
    "print(\"\\nsin\")\n",
    "x = torch.tensor([3.141], requires_grad=True)\n",
    "y = torch.sin(x)                                        # sin(x)\n",
    "dy = torch.autograd.grad(y, x, create_graph=True)       # cos(x)\n",
    "ddy = torch.autograd.grad(dy[0], x, create_graph=True)  # -sin(x)\n",
    "dddy = torch.autograd.grad(ddy[0], x)                   # -cos(x)\n",
    "print(y); print(dy); print(ddy); print(dddy)"
   ]
  },
  {
   "cell_type": "markdown",
   "metadata": {
    "id": "pFP_TXuaWPaD"
   },
   "source": [
    "# 逆伝播\n",
    "\n",
    "- 逆伝播によって、出力yを大きくするために重みを動かすべき方向が分かります。\n",
    "- 具体的には合成関数の微分 (**連鎖律**) が使われています。"
   ]
  },
  {
   "cell_type": "code",
   "execution_count": 7,
   "metadata": {
    "id": "jENfpGNqVQZh"
   },
   "outputs": [
    {
     "name": "stdout",
     "output_type": "stream",
     "text": [
      "tensor([-9.], grad_fn=<AddBackward0>)\n"
     ]
    }
   ],
   "source": [
    "x = torch.tensor([3.], requires_grad=True)\n",
    "\n",
    "w1 = torch.tensor([2.], requires_grad=True)\n",
    "b1 = torch.tensor([-10.], requires_grad=True)\n",
    "\n",
    "w2 = torch.tensor([4.], requires_grad=True)\n",
    "b2 = torch.tensor([7.], requires_grad=True)\n",
    "\n",
    "h1 = w1*x+b1  # -4\n",
    "y = w2*h1+b2  # -9\n",
    "\n",
    "print(y)"
   ]
  },
  {
   "cell_type": "code",
   "execution_count": 8,
   "metadata": {
    "id": "FrqkKBNjVn33"
   },
   "outputs": [
    {
     "name": "stdout",
     "output_type": "stream",
     "text": [
      "(tensor([12.]),)\n",
      "(tensor([4.]),)\n",
      "(tensor([-4.]),)\n",
      "(tensor([1.]),)\n"
     ]
    }
   ],
   "source": [
    "# yを大きくするには...？ (大きく==正の方向に動かす)\n",
    "print(torch.autograd.grad(y, w1, retain_graph=True))  # 増やせ\n",
    "print(torch.autograd.grad(y, b1, retain_graph=True))  # 増やせ\n",
    "print(torch.autograd.grad(y, w2, retain_graph=True))  # ??\n",
    "print(torch.autograd.grad(y, b2, retain_graph=True))  # ??"
   ]
  },
  {
   "cell_type": "code",
   "execution_count": 9,
   "metadata": {
    "id": "zXUoQH4yXp_5"
   },
   "outputs": [
    {
     "name": "stdout",
     "output_type": "stream",
     "text": [
      "tensor([12.])\n",
      "tensor([4.])\n",
      "tensor([-4.])\n",
      "tensor([1.])\n"
     ]
    }
   ],
   "source": [
    "# 一発で全部のパラメータに関して微分してくれます。便利！\n",
    "y.backward(retain_graph=True)\n",
    "\n",
    "# backwardを使うと、各パラメータに勾配情報.gradがセットされる\n",
    "# backwardを二回以上実行するとgradが加算されます\n",
    "print(w1.grad); print(b1.grad); print(w2.grad); print(b2.grad)"
   ]
  },
  {
   "cell_type": "markdown",
   "metadata": {
    "id": "VfnM4SuxLkCx"
   },
   "source": [
    "# 誤差逆伝播\n",
    "\n",
    "- lossに対して連鎖律を適用するとlossを小さくするような変数の動かし方がわかります。(**誤差逆伝播**)"
   ]
  },
  {
   "cell_type": "code",
   "execution_count": 10,
   "metadata": {
    "id": "0g6XXlF5LF0A"
   },
   "outputs": [
    {
     "name": "stdout",
     "output_type": "stream",
     "text": [
      "tensor([5.], requires_grad=True)\n",
      "tensor([1.], requires_grad=True)\n",
      "pred = 16.0, true = 10.0, loss = 36.0\n",
      "tensor([36.])\n",
      "tensor([12.])\n"
     ]
    }
   ],
   "source": [
    "import numpy as np\n",
    "\n",
    "x = torch.tensor([3.])\n",
    "true = torch.tensor([10.])\n",
    "\n",
    "w = torch.tensor([5.], requires_grad=True)\n",
    "b = torch.tensor([1.], requires_grad=True)\n",
    "\n",
    "print(w); print(b)\n",
    "\n",
    "pred = w*x+b\n",
    "loss = torch.pow(pred - true, 2)\n",
    "\n",
    "print(\"pred = {}, true = {}, loss = {}\".format(pred.item(), true.item(), loss.item()))\n",
    "\n",
    "loss.backward()\n",
    "print(w.grad); print(b.grad)"
   ]
  },
  {
   "cell_type": "markdown",
   "metadata": {
    "id": "U3QVgJrBfNOb"
   },
   "source": [
    "- lossを減らす方向が分かったので、wとbを更新してみましょう。\n",
    "- 勾配が正なら負の方向に、勾配が負なら正の方向に、勾配×**学習率**の値だけ動かします。(これを**勾配降下**といいます。)"
   ]
  },
  {
   "cell_type": "code",
   "execution_count": 11,
   "metadata": {
    "id": "O9oQ1H3OfS5n"
   },
   "outputs": [
    {
     "name": "stdout",
     "output_type": "stream",
     "text": [
      "tensor([4.6400], requires_grad=True)\n",
      "tensor([0.8800], requires_grad=True)\n",
      "pred = 14.800000190734863, true = 10.0, loss = 23.040000915527344\n"
     ]
    }
   ],
   "source": [
    "lr = 0.01  # learning_rate, 学習率\n",
    "\n",
    "w = torch.tensor([w.detach() - lr * w.grad], requires_grad=True)\n",
    "b = torch.tensor([b.detach() - lr * b.grad], requires_grad=True)\n",
    "\n",
    "print(w); print(b)\n",
    "\n",
    "pred = w*x+b\n",
    "loss = torch.pow(pred - true, 2)\n",
    "\n",
    "print(\"pred = {}, true = {}, loss = {}\".format(pred.item(), true.item(), loss.item()))"
   ]
  },
  {
   "cell_type": "markdown",
   "metadata": {
    "id": "k6O1bBttlZ4y"
   },
   "source": [
    "- さらに更新してみましょう。誤差が小さくなっていることが確認できると思います。\n",
    "  - うまく行かない場合は学習率が大きすぎる可能性が高いです。"
   ]
  },
  {
   "cell_type": "code",
   "execution_count": 12,
   "metadata": {
    "id": "7SxahJVtfLuU"
   },
   "outputs": [
    {
     "name": "stdout",
     "output_type": "stream",
     "text": [
      "pred = 13.84000015258789, true = 10.0, loss = 14.745600700378418\n"
     ]
    }
   ],
   "source": [
    "loss.backward()\n",
    "\n",
    "w = torch.tensor([w.detach() - lr * w.grad], requires_grad=True)\n",
    "b = torch.tensor([b.detach() - lr * b.grad], requires_grad=True)\n",
    "\n",
    "pred = w*x+b\n",
    "loss = torch.pow(pred - true, 2)\n",
    "\n",
    "print(\"pred = {}, true = {}, loss = {}\".format(pred.item(), true.item(), loss.item()))"
   ]
  },
  {
   "cell_type": "markdown",
   "metadata": {
    "id": "ZaEtiFFoTTlT"
   },
   "source": [
    "<img src=\"https://tutorials.chainer.org/ja/_images/13_13.png\" width=\"800\">\n",
    "\n",
    "出典: https://tutorials.chainer.org/ja/13_Basics_of_Neural_Networks.html"
   ]
  },
  {
   "cell_type": "markdown",
   "metadata": {
    "id": "Q01Rx6xgk5CU"
   },
   "source": [
    "# 最適化\n",
    "\n",
    "- 変数を自動で更新する実装も備わっています。"
   ]
  },
  {
   "cell_type": "code",
   "execution_count": 13,
   "metadata": {
    "id": "TEyky2RMlL6y"
   },
   "outputs": [
    {
     "name": "stdout",
     "output_type": "stream",
     "text": [
      "tensor([5.], requires_grad=True)\n",
      "tensor([1.], requires_grad=True)\n",
      "pred = 16.0, true = 10.0, loss = 36.0\n",
      "------------------------------------------------------------\n",
      "tensor([4.6400], requires_grad=True)\n",
      "tensor([0.8800], requires_grad=True)\n",
      "pred = 14.800000190734863, true = 10.0, loss = 23.040000915527344\n"
     ]
    }
   ],
   "source": [
    "import numpy as np\n",
    "from torch import optim\n",
    "\n",
    "x = torch.tensor([3.])\n",
    "true = torch.tensor([10.])\n",
    "\n",
    "w = torch.tensor([5.], requires_grad=True)\n",
    "b = torch.tensor([1.], requires_grad=True)\n",
    "\n",
    "print(w); print(b)\n",
    "optimizer = optim.SGD((w, b), lr=0.01, momentum=0)\n",
    "\n",
    "pred = w*x+b \n",
    "loss = torch.pow(pred - true, 2)\n",
    "\n",
    "print(\"pred = {}, true = {}, loss = {}\".format(pred.item(), true.item(), loss.item()))\n",
    "\n",
    "optimizer.zero_grad()\n",
    "loss.backward()\n",
    "optimizer.step()\n",
    "\n",
    "print(\"-\"*60)\n",
    "print(w); print(b)\n",
    "\n",
    "pred = w*x+b\n",
    "loss = torch.pow(pred - true, 2)\n",
    "print(\"pred = {}, true = {}, loss = {}\".format(pred.item(), true.item(), loss.item()))"
   ]
  },
  {
   "cell_type": "code",
   "execution_count": 14,
   "metadata": {
    "id": "Ql7r6llqzf1H"
   },
   "outputs": [],
   "source": [
    "del w, b"
   ]
  },
  {
   "cell_type": "markdown",
   "metadata": {
    "id": "NqEP5U7KpzIW"
   },
   "source": [
    "- 変数をまとめてクラスに、最適化を関数にして複数回変数を更新しましょう"
   ]
  },
  {
   "cell_type": "code",
   "execution_count": 15,
   "metadata": {
    "id": "IxthsznppybN"
   },
   "outputs": [],
   "source": [
    "class Model(object):\n",
    "  def __init__(self):\n",
    "    self.w = torch.tensor([5.], requires_grad=True)\n",
    "    self.b = torch.tensor([1.], requires_grad=True)\n",
    "    self.params = (self.w, self.b)\n",
    "\n",
    "  def forward(self, x):\n",
    "    pred = self.w*x+self.b\n",
    "    return pred\n",
    "\n",
    "def train():\n",
    "  x, true = data  # データを取ってくる(今回データは1つしかないですが)\n",
    "  pred = model.forward(x)\n",
    "  loss = torch.pow(pred- true, 2)\n",
    "\n",
    "  print(\"pred = {}, true = {}, loss = {}\".format(pred.item(), true.item(), loss.item()))\n",
    "\n",
    "  optimizer.zero_grad()\n",
    "  # 誤差逆伝播\n",
    "  loss.backward()\n",
    "  optimizer.step()\n",
    "\n",
    "  loss_hist.append(loss.item())"
   ]
  },
  {
   "cell_type": "code",
   "execution_count": 16,
   "metadata": {
    "id": "A6C5DNmjs77p"
   },
   "outputs": [
    {
     "name": "stdout",
     "output_type": "stream",
     "text": [
      "pred = 16.0, true = 10.0, loss = 36.0\n",
      "pred = 14.800000190734863, true = 10.0, loss = 23.040000915527344\n",
      "pred = 13.84000015258789, true = 10.0, loss = 14.745600700378418\n",
      "pred = 13.071999549865723, true = 10.0, loss = 9.43718147277832\n",
      "pred = 12.457598686218262, true = 10.0, loss = 6.039791107177734\n",
      "pred = 11.966079711914062, true = 10.0, loss = 3.865469455718994\n",
      "pred = 11.572863578796387, true = 10.0, loss = 2.4738998413085938\n",
      "pred = 11.258291244506836, true = 10.0, loss = 1.5832968950271606\n",
      "pred = 11.006633758544922, true = 10.0, loss = 1.013311505317688\n",
      "pred = 10.805306434631348, true = 10.0, loss = 0.648518443107605\n",
      "pred = 10.644245147705078, true = 10.0, loss = 0.41505181789398193\n",
      "pred = 10.515396118164062, true = 10.0, loss = 0.26563316583633423\n",
      "pred = 10.41231632232666, true = 10.0, loss = 0.17000475525856018\n",
      "pred = 10.329852104187012, true = 10.0, loss = 0.10880240797996521\n",
      "pred = 10.263882637023926, true = 10.0, loss = 0.06963404268026352\n",
      "pred = 10.211106300354004, true = 10.0, loss = 0.044565871357917786\n",
      "pred = 10.168883323669434, true = 10.0, loss = 0.028521576896309853\n",
      "pred = 10.13510799407959, true = 10.0, loss = 0.018254170194268227\n",
      "pred = 10.108085632324219, true = 10.0, loss = 0.01168250385671854\n",
      "pred = 10.086468696594238, true = 10.0, loss = 0.007476835511624813\n"
     ]
    }
   ],
   "source": [
    "x = torch.tensor([3.])\n",
    "true = torch.tensor([10.])\n",
    "\n",
    "data = (x, true)\n",
    "\n",
    "model = Model()\n",
    "optimizer = optim.SGD(model.params, lr=0.01, momentum=0)\n",
    "\n",
    "loss_hist = []\n",
    "\n",
    "for epoch in range(20):\n",
    "  train()"
   ]
  },
  {
   "cell_type": "code",
   "execution_count": 17,
   "metadata": {
    "id": "lQDv79o4s98Z"
   },
   "outputs": [
    {
     "data": {
      "image/png": "[encoded data removed]",
      "text/plain": [
       "<Figure size 432x288 with 1 Axes>"
      ]
     },
     "metadata": {
      "needs_background": "light"
     },
     "output_type": "display_data"
    }
   ],
   "source": [
    "import matplotlib.pyplot as plt\n",
    "\n",
    "# 学習が進んでいる様子が確認できます\n",
    "plt.plot(loss_hist); plt.show()"
   ]
  },
  {
   "cell_type": "markdown",
   "metadata": {
    "id": "6BSVL-UEuWwG"
   },
   "source": [
    "前章ではnumpyでモデルを定義しましたが、今回のように深層学習ライブラリを使ってモデルを定義することで簡単に自動微分でき学習を行うことができます。"
   ]
  },
  {
   "cell_type": "markdown",
   "metadata": {
    "id": "-oLJvvu7wrxL"
   },
   "source": [
    "前章で扱ったモデルの定義と今回扱ったtrain関数とで、  \n",
    "深層学習を使う上で必要な基本的なコーディングがほぼ全てできるようになりました。\n",
    "\n",
    "ここまでしっかり理解すれば、深層学習一応わかります！と言っていいと思います。(ただしTPOによる)"
   ]
  },
  {
   "cell_type": "markdown",
   "metadata": {
    "id": "uIOs5DPE2y8n"
   },
   "source": [
    "# 演習 (余力がある人向け)\n",
    "\n",
    "- 白紙の状態から下の図が書けて誤差の各パラメータでの微分が求められるように練習すると、かなり理解が深まると思います。(激しく推奨)\n",
    "- より深く基礎から深層学習を理解したい人は、リンク先のchainerのチュートリアルも非常に参考になると思います。"
   ]
  },
  {
   "cell_type": "markdown",
   "metadata": {
    "id": "njH9ZKkw2og7"
   },
   "source": [
    "<img src=\"https://tutorials.chainer.org/ja/_images/13_backpropagation.gif\" width=\"760\">\n",
    "\n",
    "出典: https://tutorials.chainer.org/ja/13_Basics_of_Neural_Networks.html\n"
   ]
  },
  {
   "cell_type": "code",
   "execution_count": null,
   "metadata": {
    "id": "-E6cuTQetCqL"
   },
   "outputs": [],
   "source": []
  }
 ],
 "metadata": {
  "colab": {
   "authorship_tag": "ABX9TyPKVRV9hbQsSRUUB25LTkWF",
   "collapsed_sections": [],
   "name": "exercise3.ipynb",
   "provenance": []
  },
  "kernelspec": {
   "display_name": "Python 3",
   "language": "python",
   "name": "python3"
  },
  "language_info": {
   "codemirror_mode": {
    "name": "ipython",
    "version": 3
   },
   "file_extension": ".py",
   "mimetype": "text/x-python",
   "name": "python",
   "nbconvert_exporter": "python",
   "pygments_lexer": "ipython3",
   "version": "3.8.0"
  }
 },
 "nbformat": 4,
 "nbformat_minor": 4
}
