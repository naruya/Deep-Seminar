{
 "cells": [
  {
   "cell_type": "markdown",
   "metadata": {
    "id": "kZlHQRfz_u8C"
   },
   "source": [
    "# 深層学習の実装\n",
    "\n",
    "- ref: https://keras.io/examples/vision/mnist_convnet/"
   ]
  },
  {
   "cell_type": "code",
   "execution_count": 1,
   "metadata": {
    "id": "zZhRbrg58STY"
   },
   "outputs": [
    {
     "name": "stdout",
     "output_type": "stream",
     "text": [
      "x_train shape: (60000, 28, 28, 1)\n",
      "60000 train samples\n",
      "10000 test samples\n",
      "Model: \"sequential\"\n",
      "_________________________________________________________________\n",
      "Layer (type)                 Output Shape              Param #   \n",
      "=================================================================\n",
      "conv2d (Conv2D)              (None, 26, 26, 32)        320       \n",
      "_________________________________________________________________\n",
      "max_pooling2d (MaxPooling2D) (None, 13, 13, 32)        0         \n",
      "_________________________________________________________________\n",
      "conv2d_1 (Conv2D)            (None, 11, 11, 64)        18496     \n",
      "_________________________________________________________________\n",
      "max_pooling2d_1 (MaxPooling2 (None, 5, 5, 64)          0         \n",
      "_________________________________________________________________\n",
      "flatten (Flatten)            (None, 1600)              0         \n",
      "_________________________________________________________________\n",
      "dropout (Dropout)            (None, 1600)              0         \n",
      "_________________________________________________________________\n",
      "dense (Dense)                (None, 10)                16010     \n",
      "=================================================================\n",
      "Total params: 34,826\n",
      "Trainable params: 34,826\n",
      "Non-trainable params: 0\n",
      "_________________________________________________________________\n",
      "Epoch 1/5\n",
      "422/422 [==============================] - 10s 23ms/step - loss: 0.3734 - accuracy: 0.8851 - val_loss: 0.0931 - val_accuracy: 0.9743\n",
      "Epoch 2/5\n",
      "422/422 [==============================] - 9s 22ms/step - loss: 0.1177 - accuracy: 0.9634 - val_loss: 0.0601 - val_accuracy: 0.9830\n",
      "Epoch 3/5\n",
      "422/422 [==============================] - 9s 22ms/step - loss: 0.0894 - accuracy: 0.9727 - val_loss: 0.0506 - val_accuracy: 0.9862\n",
      "Epoch 4/5\n",
      "422/422 [==============================] - 9s 22ms/step - loss: 0.0739 - accuracy: 0.9773 - val_loss: 0.0422 - val_accuracy: 0.9873\n",
      "Epoch 5/5\n",
      "422/422 [==============================] - 9s 22ms/step - loss: 0.0650 - accuracy: 0.9801 - val_loss: 0.0368 - val_accuracy: 0.9892\n",
      "Test loss: 0.01726275496184826\n",
      "Test accuracy: 0.9921875\n"
     ]
    }
   ],
   "source": [
    "import numpy as np\n",
    "from tensorflow import keras\n",
    "from tensorflow.keras import layers\n",
    "\n",
    "\n",
    "# Model / data parameters\n",
    "num_classes = 10\n",
    "input_shape = (28, 28, 1)\n",
    "\n",
    "# the data, split between train and test sets\n",
    "(x_train, y_train), (x_test, y_test) = keras.datasets.mnist.load_data()\n",
    "\n",
    "# Scale images to the [0, 1] range\n",
    "x_train = x_train.astype(\"float32\") / 255\n",
    "x_test = x_test.astype(\"float32\") / 255\n",
    "\n",
    "# Make sure images have shape (28, 28, 1)\n",
    "x_train = np.expand_dims(x_train, -1)\n",
    "x_test = np.expand_dims(x_test, -1)\n",
    "\n",
    "print(\"x_train shape:\", x_train.shape)\n",
    "print(x_train.shape[0], \"train samples\")\n",
    "print(x_test.shape[0], \"test samples\")\n",
    "\n",
    "# convert class vectors to binary class matrices\n",
    "y_train = keras.utils.to_categorical(y_train, num_classes)\n",
    "y_test = keras.utils.to_categorical(y_test, num_classes)\n",
    "\n",
    "model = keras.Sequential(\n",
    "    [\n",
    "        keras.layers.InputLayer(input_shape=input_shape),\n",
    "        layers.Conv2D(32, kernel_size=(3, 3), activation=\"relu\"),\n",
    "        layers.MaxPooling2D(pool_size=(2, 2)),\n",
    "        layers.Conv2D(64, kernel_size=(3, 3), activation=\"relu\"),\n",
    "        layers.MaxPooling2D(pool_size=(2, 2)),\n",
    "        layers.Flatten(),\n",
    "        layers.Dropout(0.5),\n",
    "        layers.Dense(num_classes, activation=\"softmax\"),\n",
    "    ]\n",
    ")\n",
    "model.summary()\n",
    "\n",
    "model.compile(loss=\"categorical_crossentropy\", optimizer=\"adam\", metrics=[\"accuracy\"])\n",
    "\n",
    "model.fit(x_train, y_train, batch_size=128, epochs=5, validation_split=0.1)\n",
    "\n",
    "score = model.evaluate(x_test[:256], y_test[:256], verbose=0)\n",
    "print(\"Test loss:\", score[0])\n",
    "print(\"Test accuracy:\", score[1])"
   ]
  },
  {
   "cell_type": "code",
   "execution_count": 2,
   "metadata": {
    "id": "4GxgouPb9Z9A"
   },
   "outputs": [
    {
     "data": {
      "text/plain": [
       "(60000, 28, 28, 1)"
      ]
     },
     "execution_count": 2,
     "metadata": {},
     "output_type": "execute_result"
    }
   ],
   "source": [
    "x_train.shape"
   ]
  },
  {
   "cell_type": "code",
   "execution_count": 3,
   "metadata": {
    "id": "5jxOQoac9TIq"
   },
   "outputs": [
    {
     "data": {
      "image/png": "[encoded data removed]",
      "text/plain": [
       "<Figure size 1296x1296 with 5 Axes>"
      ]
     },
     "metadata": {
      "needs_background": "light"
     },
     "output_type": "display_data"
    }
   ],
   "source": [
    "import matplotlib.pyplot as plt\n",
    "\n",
    "N=5\n",
    "plt.figure(figsize=(18,18))\n",
    "for i in range(N):\n",
    "  plt.subplot(1,N,i+1); plt.imshow(x_train[i].squeeze(), \"gray\")\n",
    "plt.show()"
   ]
  },
  {
   "cell_type": "code",
   "execution_count": 4,
   "metadata": {
    "id": "h8-YuLSE-Xzu"
   },
   "outputs": [
    {
     "name": "stdout",
     "output_type": "stream",
     "text": [
      "(5, 10)\n"
     ]
    },
    {
     "data": {
      "text/plain": [
       "array([[5.68418201e-09, 1.07455715e-08, 5.08743653e-07, 6.46705329e-02,\n",
       "        1.04390940e-11, 9.35295582e-01, 3.58306829e-09, 2.47241758e-07,\n",
       "        2.79988017e-05, 5.13056875e-06],\n",
       "       [9.99992728e-01, 4.99710412e-11, 1.50881226e-06, 9.87778193e-10,\n",
       "        5.56812985e-10, 1.03750331e-09, 5.23919653e-06, 7.28387850e-10,\n",
       "        2.13263277e-07, 3.22097179e-07],\n",
       "       [1.29772484e-10, 2.29056168e-05, 1.82205372e-06, 4.46429993e-07,\n",
       "        9.99863982e-01, 1.24066119e-07, 2.22968826e-08, 2.90996413e-05,\n",
       "        6.02194234e-07, 8.10981874e-05],\n",
       "       [8.63986406e-06, 9.99005497e-01, 1.05627252e-04, 1.48778406e-06,\n",
       "        4.60155337e-04, 3.23267273e-07, 3.30932417e-05, 2.03870179e-04,\n",
       "        1.80032366e-04, 1.30605508e-06],\n",
       "       [3.65465667e-07, 2.77894543e-07, 1.21722246e-06, 3.34554934e-05,\n",
       "        9.89796477e-04, 1.51176073e-06, 1.50899080e-08, 2.65884359e-04,\n",
       "        2.27410905e-03, 9.96433377e-01]], dtype=float32)"
      ]
     },
     "execution_count": 4,
     "metadata": {},
     "output_type": "execute_result"
    }
   ],
   "source": [
    "pred = model.predict(x_train[:N], batch_size=1)\n",
    "print(pred.shape)\n",
    "pred"
   ]
  },
  {
   "cell_type": "code",
   "execution_count": 5,
   "metadata": {
    "id": "EYb7IJzb-mJY"
   },
   "outputs": [
    {
     "name": "stdout",
     "output_type": "stream",
     "text": [
      "[5 0 4 1 9]\n"
     ]
    }
   ],
   "source": [
    "pred = np.argmax(pred, axis=1)\n",
    "print(pred)"
   ]
  },
  {
   "cell_type": "code",
   "execution_count": null,
   "metadata": {
    "id": "0YErpSlQ_pqe"
   },
   "outputs": [],
   "source": []
  }
 ],
 "metadata": {
  "accelerator": "GPU",
  "colab": {
   "authorship_tag": "ABX9TyNLBYJRZVGBcdjkpRSoKrBr",
   "collapsed_sections": [],
   "name": "exercise1.ipynb",
   "provenance": []
  },
  "kernelspec": {
   "display_name": "Python 3",
   "language": "python",
   "name": "python3"
  },
  "language_info": {
   "codemirror_mode": {
    "name": "ipython",
    "version": 3
   },
   "file_extension": ".py",
   "mimetype": "text/x-python",
   "name": "python",
   "nbconvert_exporter": "python",
   "pygments_lexer": "ipython3",
   "version": "3.8.0"
  }
 },
 "nbformat": 4,
 "nbformat_minor": 4
}
