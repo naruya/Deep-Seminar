{
 "cells": [
  {
   "cell_type": "markdown",
   "metadata": {
    "id": "iE_4ClHK4uc9"
   },
   "source": [
    "# 分類・回帰（MLP・CNN）\n",
    "\n",
    "- ランタイム->ランタイムのタイプを変更->GPU\n",
    "- データのダウンロードに時間がかかるのでとりあえず実行してください"
   ]
  },
  {
   "cell_type": "markdown",
   "metadata": {
    "id": "Gi17XNnJKTYL"
   },
   "source": [
    "# 分類\n",
    "ref: https://github.com/pytorch/examples/blob/master/mnist/main.py"
   ]
  },
  {
   "cell_type": "markdown",
   "metadata": {
    "id": "g7Id28jzL3es"
   },
   "source": [
    "- Negative Log-Ligelihood (NLL, 負の対数尤度)\n",
    "  - $\\mathbf{y}$を出力(各クラスの確率のようなベクトル)、$\\mathbf{t}$を正解のone_hotベクトルとしたとき、\n",
    "$$ \n",
    "Loss(\\mathbf{y}) = -\\log(y_i) \\quad (ただし y_i=t_i)\n",
    "$$\n",
    "\n",
    "  - ref: https://ljvmiranda921.github.io/notebook/2017/08/13/softmax-and-the-negative-log-likelihood/"
   ]
  },
  {
   "cell_type": "code",
   "execution_count": 1,
   "metadata": {
    "id": "irqWQCaf4l-G"
   },
   "outputs": [
    {
     "name": "stdout",
     "output_type": "stream",
     "text": [
      "Train Epoch: 1 [0/60000]\tLoss: 2.310584\n",
      "Train Epoch: 1 [6400/60000]\tLoss: 0.156014\n",
      "Train Epoch: 1 [12800/60000]\tLoss: 0.094682\n",
      "Train Epoch: 1 [19200/60000]\tLoss: 0.163271\n",
      "Train Epoch: 1 [25600/60000]\tLoss: 0.139334\n",
      "Train Epoch: 1 [32000/60000]\tLoss: 0.018503\n",
      "Train Epoch: 1 [38400/60000]\tLoss: 0.071137\n",
      "Train Epoch: 1 [44800/60000]\tLoss: 0.217014\n",
      "Train Epoch: 1 [51200/60000]\tLoss: 0.066358\n",
      "Train Epoch: 1 [57600/60000]\tLoss: 0.048868\n",
      "\n",
      "Test set: Average loss: 0.0471, Accuracy: 9827/10000 (98%)\n",
      "\n",
      "Train Epoch: 2 [0/60000]\tLoss: 0.133830\n",
      "Train Epoch: 2 [6400/60000]\tLoss: 0.093764\n",
      "Train Epoch: 2 [12800/60000]\tLoss: 0.067540\n",
      "Train Epoch: 2 [19200/60000]\tLoss: 0.046111\n",
      "Train Epoch: 2 [25600/60000]\tLoss: 0.058343\n",
      "Train Epoch: 2 [32000/60000]\tLoss: 0.065761\n",
      "Train Epoch: 2 [38400/60000]\tLoss: 0.051563\n",
      "Train Epoch: 2 [44800/60000]\tLoss: 0.014348\n",
      "Train Epoch: 2 [51200/60000]\tLoss: 0.018240\n",
      "Train Epoch: 2 [57600/60000]\tLoss: 0.043940\n",
      "\n",
      "Test set: Average loss: 0.0363, Accuracy: 9875/10000 (99%)\n",
      "\n",
      "Train Epoch: 3 [0/60000]\tLoss: 0.007083\n",
      "Train Epoch: 3 [6400/60000]\tLoss: 0.018801\n",
      "Train Epoch: 3 [12800/60000]\tLoss: 0.108532\n",
      "Train Epoch: 3 [19200/60000]\tLoss: 0.113845\n",
      "Train Epoch: 3 [25600/60000]\tLoss: 0.071622\n",
      "Train Epoch: 3 [32000/60000]\tLoss: 0.021003\n",
      "Train Epoch: 3 [38400/60000]\tLoss: 0.045345\n",
      "Train Epoch: 3 [44800/60000]\tLoss: 0.277034\n",
      "Train Epoch: 3 [51200/60000]\tLoss: 0.127195\n",
      "Train Epoch: 3 [57600/60000]\tLoss: 0.048126\n",
      "\n",
      "Test set: Average loss: 0.0326, Accuracy: 9891/10000 (99%)\n",
      "\n"
     ]
    }
   ],
   "source": [
    "import torch\n",
    "import torch.nn as nn\n",
    "import torch.nn.functional as F\n",
    "import torch.optim as optim\n",
    "from torchvision import datasets, transforms\n",
    "from torch.optim.lr_scheduler import StepLR\n",
    "\n",
    "\n",
    "class Net(nn.Module):\n",
    "    def __init__(self):\n",
    "        super(Net, self).__init__()\n",
    "        self.conv1 = nn.Conv2d(1, 32, 3, 1)\n",
    "        self.conv2 = nn.Conv2d(32, 64, 3, 1)\n",
    "        self.dropout1 = nn.Dropout(0.25)\n",
    "        self.dropout2 = nn.Dropout(0.5)\n",
    "        self.fc1 = nn.Linear(9216, 128)\n",
    "        self.fc2 = nn.Linear(128, 10)\n",
    "\n",
    "    def forward(self, x):\n",
    "        x = self.conv1(x)\n",
    "        x = F.relu(x)\n",
    "        x = self.conv2(x)\n",
    "        x = F.relu(x)\n",
    "        x = F.max_pool2d(x, 2)\n",
    "        x = self.dropout1(x)\n",
    "        x = torch.flatten(x, 1)\n",
    "        x = self.fc1(x)\n",
    "        x = F.relu(x)\n",
    "        x = self.dropout2(x)\n",
    "        x = self.fc2(x)\n",
    "        output = F.log_softmax(x, dim=1)\n",
    "        return output\n",
    "\n",
    "\n",
    "def train(model, device, train_loader, optimizer, epoch):\n",
    "    model.train()\n",
    "    for batch_idx, (data, target) in enumerate(train_loader):\n",
    "        data, target = data.to(device), target.to(device)\n",
    "        optimizer.zero_grad()\n",
    "        output = model(data)\n",
    "        loss = F.nll_loss(output, target)\n",
    "        loss.backward()\n",
    "        optimizer.step()\n",
    "        if batch_idx % 100 == 0:\n",
    "            print('Train Epoch: {} [{}/{}]\\tLoss: {:.6f}'.format(\n",
    "                epoch, batch_idx * len(data), len(train_loader.dataset),\n",
    "                loss.item()))\n",
    "\n",
    "\n",
    "def test(model, device, test_loader):\n",
    "    model.eval()\n",
    "    test_loss = 0\n",
    "    correct = 0\n",
    "    with torch.no_grad():\n",
    "        for data, target in test_loader:\n",
    "            data, target = data.to(device), target.to(device)\n",
    "            output = model(data)\n",
    "            test_loss += F.nll_loss(output, target, reduction='sum').item()  # sum up batch loss\n",
    "            pred = output.argmax(dim=1, keepdim=True)  # get the index of the max log-probability\n",
    "            correct += pred.eq(target.view_as(pred)).sum().item()\n",
    "\n",
    "    test_loss /= len(test_loader.dataset)\n",
    "\n",
    "    print('\\nTest set: Average loss: {:.4f}, Accuracy: {}/{} ({:.0f}%)\\n'.format(\n",
    "        test_loss, correct, len(test_loader.dataset),\n",
    "        100. * correct / len(test_loader.dataset)))\n",
    "\n",
    "\n",
    "\n",
    "torch.manual_seed(0)\n",
    "\n",
    "device = torch.device(\"cuda\")\n",
    "\n",
    "train_kwargs = {'batch_size': 64}\n",
    "test_kwargs = {'batch_size': 1000}\n",
    "\n",
    "cuda_kwargs = {'num_workers': 1,\n",
    "                'pin_memory': True,\n",
    "                'shuffle': True}\n",
    "train_kwargs.update(cuda_kwargs)\n",
    "test_kwargs.update(cuda_kwargs)\n",
    "\n",
    "transform=transforms.Compose([\n",
    "    transforms.ToTensor(),\n",
    "    transforms.Normalize((0.1307,), (0.3081,)),\n",
    "    # transforms.Resize(56)  # 演習用\n",
    "    ])\n",
    "\n",
    "dataset1 = datasets.MNIST('../data', train=True, download=True,\n",
    "                    transform=transform)\n",
    "dataset2 = datasets.MNIST('../data', train=False,\n",
    "                    transform=transform)\n",
    "train_loader = torch.utils.data.DataLoader(dataset1,**train_kwargs)\n",
    "test_loader = torch.utils.data.DataLoader(dataset2, **test_kwargs)\n",
    "\n",
    "model = Net().to(device)\n",
    "optimizer = optim.Adadelta(model.parameters(), lr=1.0)\n",
    "\n",
    "scheduler = StepLR(optimizer, step_size=1, gamma=0.7)\n",
    "for epoch in range(1, 4):\n",
    "    train(model, device, train_loader, optimizer, epoch)\n",
    "    test(model, device, test_loader)\n",
    "    scheduler.step()\n",
    "\n",
    "torch.save(model.state_dict(), \"mnist_cnn.pt\")"
   ]
  },
  {
   "cell_type": "code",
   "execution_count": 2,
   "metadata": {
    "id": "q8ash6-6SUFa"
   },
   "outputs": [
    {
     "name": "stdout",
     "output_type": "stream",
     "text": [
      "torch.Size([5, 1, 28, 28])\n"
     ]
    },
    {
     "data": {
      "image/png": "[encoded data removed]",
      "text/plain": [
       "<Figure size 1296x1296 with 5 Axes>"
      ]
     },
     "metadata": {
      "needs_background": "light"
     },
     "output_type": "display_data"
    }
   ],
   "source": [
    "# 可視化\n",
    "import matplotlib.pyplot as plt\n",
    "import numpy as np\n",
    "\n",
    "N=5\n",
    "\n",
    "data, target = iter(test_loader).next()\n",
    "data = data[:5].to(device)\n",
    "print(data.shape)\n",
    "\n",
    "data_np = data.detach().cpu().numpy()\n",
    "\n",
    "plt.figure(figsize=(18,18))\n",
    "for i in range(N):\n",
    "  plt.subplot(1,N,i+1); plt.imshow(data_np[i].squeeze(), \"gray\")\n",
    "plt.show()"
   ]
  },
  {
   "cell_type": "code",
   "execution_count": 3,
   "metadata": {
    "id": "BhA__d_xTqlN"
   },
   "outputs": [
    {
     "name": "stdout",
     "output_type": "stream",
     "text": [
      "tensor([2, 2, 9, 7, 2], device='cuda:0')\n"
     ]
    }
   ],
   "source": [
    "# 予測結果の表示\n",
    "\n",
    "pred = torch.argmax(model(data[:N]), 1)\n",
    "print(pred)"
   ]
  },
  {
   "cell_type": "markdown",
   "metadata": {
    "id": "Q7i3AxxjQpX6"
   },
   "source": [
    "- 一通り確認出来たら、`transforms.Resize(56)  # 演習用` のコメントアウトを外して、新しい画像サイズで使えるようにモデルを修正してみましょう\n",
    "  - `Net`クラスの`forward`メソッド内で`print(x.shape)`などとして各層で出力される特徴マップや特徴ベクトルのサイズを確認していき、どこの層のパラメタ数を調整すればよいか考えるとうまく行きます。\n",
    "  - (一か所変えるだけでも動きます。)\n",
    "- Conv2Dを通した時に出力される特徴マップのサイズを計算してみるとより理解が深まると思います。\n",
    "  - ref: [PytorchのConv2Dの詳細](https://pytorch.org/docs/stable/generated/torch.nn.Conv2d.html)"
   ]
  },
  {
   "cell_type": "markdown",
   "metadata": {
    "id": "Sd_7Wml3KU89"
   },
   "source": [
    "# 回帰\n",
    "\n",
    "(余力がある人向け)\n",
    "\n",
    "ref: https://github.com/pytorch/examples/blob/master/regression/main.py"
   ]
  },
  {
   "cell_type": "code",
   "execution_count": 4,
   "metadata": {
    "id": "OYfgCcd_9FOm"
   },
   "outputs": [
    {
     "name": "stdout",
     "output_type": "stream",
     "text": [
      "Loss: 0.000339 after 332 batches\n",
      "==> Learned function:\ty = +7.08 x^1 -0.02 x^2 +4.09 x^3 +2.65 x^4 +2.69\n",
      "==> Actual function:\ty = +7.06 x^1 -0.06 x^2 +4.11 x^3 +2.66 x^4 +2.70\n"
     ]
    }
   ],
   "source": [
    "from itertools import count\n",
    "\n",
    "import torch\n",
    "import torch.nn.functional as F\n",
    "\n",
    "POLY_DEGREE = 4\n",
    "W_target = torch.randn(POLY_DEGREE, 1) * 5\n",
    "b_target = torch.randn(1) * 5\n",
    "\n",
    "\n",
    "def make_features(x):\n",
    "    \"\"\"Builds features i.e. a matrix with columns [x, x^2, x^3, x^4].\"\"\"\n",
    "    x = x.unsqueeze(1)\n",
    "    return torch.cat([x ** i for i in range(1, POLY_DEGREE+1)], 1)\n",
    "\n",
    "\n",
    "def f(x):\n",
    "    \"\"\"Approximated function.\"\"\"\n",
    "    return x.mm(W_target) + b_target.item()\n",
    "\n",
    "\n",
    "def poly_desc(W, b):\n",
    "    \"\"\"Creates a string description of a polynomial.\"\"\"\n",
    "    result = 'y = '\n",
    "    for i, w in enumerate(W):\n",
    "        result += '{:+.2f} x^{} '.format(w, i + 1)\n",
    "    result += '{:+.2f}'.format(b[0])\n",
    "    return result\n",
    "\n",
    "\n",
    "def get_batch(batch_size=32):\n",
    "    \"\"\"Builds a batch i.e. (x, f(x)) pair.\"\"\"\n",
    "    random = torch.randn(batch_size)\n",
    "    x = make_features(random)\n",
    "    y = f(x)\n",
    "    return x, y\n",
    "\n",
    "\n",
    "# Define model\n",
    "fc = torch.nn.Linear(W_target.size(0), 1)\n",
    "\n",
    "for batch_idx in count(1):\n",
    "    # Get data\n",
    "    batch_x, batch_y = get_batch()\n",
    "\n",
    "    # Reset gradients\n",
    "    fc.zero_grad()\n",
    "\n",
    "    # Forward pass\n",
    "    output = F.smooth_l1_loss(fc(batch_x), batch_y)\n",
    "    loss = output.item()\n",
    "\n",
    "    # Backward pass\n",
    "    output.backward()\n",
    "\n",
    "    # Apply gradients\n",
    "    for param in fc.parameters():\n",
    "        param.data.add_(-0.1 * param.grad)\n",
    "\n",
    "    # Stop criterion\n",
    "    if loss < 1e-3:\n",
    "        break\n",
    "\n",
    "print('Loss: {:.6f} after {} batches'.format(loss, batch_idx))\n",
    "print('==> Learned function:\\t' + poly_desc(fc.weight.view(-1), fc.bias))\n",
    "print('==> Actual function:\\t' + poly_desc(W_target.view(-1), b_target))"
   ]
  }
 ],
 "metadata": {
  "accelerator": "GPU",
  "colab": {
   "authorship_tag": "ABX9TyNXanr1ZoSi5Y4nqFyurpfH",
   "collapsed_sections": [],
   "name": "exercise4.ipynb",
   "provenance": []
  },
  "kernelspec": {
   "display_name": "Python 3",
   "language": "python",
   "name": "python3"
  },
  "language_info": {
   "codemirror_mode": {
    "name": "ipython",
    "version": 3
   },
   "file_extension": ".py",
   "mimetype": "text/x-python",
   "name": "python",
   "nbconvert_exporter": "python",
   "pygments_lexer": "ipython3",
   "version": "3.8.0"
  }
 },
 "nbformat": 4,
 "nbformat_minor": 4
}
