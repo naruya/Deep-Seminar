{
 "cells": [
  {
   "cell_type": "markdown",
   "metadata": {
    "id": "O5Qg2NMNmBGR"
   },
   "source": [
    "# 深層学習モデルの構築\n",
    "\n",
    "簡単のために、\"5\"という数字かどうかを判定するモデルの作り方を見ていきます。\n",
    "\n",
    "コードを多めに用意したので、自分で弄ってみながら理解を深めてみてください。\n",
    "\n",
    "![](https://deepage.net/img/convolutional_neural_network/conv.jpg)\n",
    "\n",
    "- 出典: https://deepage.net/deep_learning/2016/11/07/convolutional_neural_network.html"
   ]
  },
  {
   "cell_type": "markdown",
   "metadata": {
    "id": "eizbOsyibOwh"
   },
   "source": [
    "- 深層学習ではまず、何を入力にし何を出力(予測)してほしいのかを決めて、それに合うニューラルネットモデルを作ります。\n",
    "- 今回は画像を入力にして、入力が\"5\"という数字なら1、違えば0のような0~1の1つの値を出力すればいいので、そのようなモデルを組んでいきます。\n",
    "- NNでは何種類かのレイヤーと呼ばれる処理を重ねることで、入力から特徴を抽出し目的の出力を予測していきます。\n",
    "- 人間は、多数のパラメータを持ったニューラルネットを用意しさえすればよく、どんなパラメータが良いのかは後から機械が決めてくれます(誤差逆伝播法)。"
   ]
  },
  {
   "cell_type": "markdown",
   "metadata": {
    "id": "JQ5fpWLYqWKB"
   },
   "source": [
    "# 入力データの準備"
   ]
  },
  {
   "cell_type": "code",
   "execution_count": 1,
   "metadata": {
    "id": "i6LOvoGfHNGC"
   },
   "outputs": [],
   "source": [
    "import numpy as np\n",
    "from tensorflow import keras\n",
    "\n",
    "# the data, split between train and test sets\n",
    "(x_train, y_train), (x_test, y_test) = keras.datasets.mnist.load_data()"
   ]
  },
  {
   "cell_type": "code",
   "execution_count": 2,
   "metadata": {
    "id": "oPku9A2xHOjJ"
   },
   "outputs": [
    {
     "data": {
      "image/png": "[encoded data removed]",
      "text/plain": [
       "<Figure size 432x288 with 1 Axes>"
      ]
     },
     "metadata": {
      "needs_background": "light"
     },
     "output_type": "display_data"
    }
   ],
   "source": [
    "import cv2\n",
    "import matplotlib.pyplot as plt\n",
    "\n",
    "inp = x_train[0].squeeze()\n",
    "inp = cv2.erode(inp, np.ones((3,3),np.uint8))\n",
    "plt.imshow(inp); plt.show()"
   ]
  },
  {
   "cell_type": "markdown",
   "metadata": {
    "id": "7iMvcy7AeALz"
   },
   "source": [
    "# Conv層 (畳み込み層)\n",
    "\n",
    "視覚的な(空間方向の)特徴を抽出します。\n",
    "- より具体的には、小さい重み画像とどのくらい似ているかを少しずつ場所をずらしながら調べます。\n",
    "  - (どのような特徴が良いかは人間は決めず、あとから機械に決めてもらいます。)\n",
    "- とりあえず実行してみましょう"
   ]
  },
  {
   "cell_type": "markdown",
   "metadata": {
    "id": "eH39PKLtf73R"
   },
   "source": [
    "<img src=\"https://deepage.net/img/convolutional_neural_network/animated_convolution.gif\" width=\"640\">\n",
    "\n",
    "- 出典: https://deepage.net/deep_learning/2016/11/07/convolutional_neural_network.html"
   ]
  },
  {
   "cell_type": "code",
   "execution_count": 3,
   "metadata": {
    "id": "sMZT9OBbJBd7"
   },
   "outputs": [
    {
     "data": {
      "image/png": "[encoded data removed]",
      "text/plain": [
       "<Figure size 432x288 with 2 Axes>"
      ]
     },
     "metadata": {
      "needs_background": "light"
     },
     "output_type": "display_data"
    }
   ],
   "source": [
    "# weightはkernelとも呼びます\n",
    "weight = np.array(\n",
    "    [[0,1,0],\n",
    "     [0,1,0],\n",
    "     [0,1,0],])\n",
    "\n",
    "plt.subplot(1,2,1); plt.imshow(weight)\n",
    "\n",
    "H_out = inp.shape[0] - weight.shape[0] + 1\n",
    "W_out = inp.shape[1] -weight.shape[1] + 1\n",
    "\n",
    "out = np.zeros([H_out, W_out])\n",
    "\n",
    "for i in range(H_out):\n",
    "  for j in range(W_out):\n",
    "    inp_ij = inp[i:i+weight.shape[0], j:j+weight.shape[1]]\n",
    "    out[i,j] = np.dot(inp_ij.flatten(), weight.flatten())\n",
    "\n",
    "plt.subplot(1,2,2); plt.imshow(out)\n",
    "plt.show()"
   ]
  },
  {
   "cell_type": "markdown",
   "metadata": {},
   "source": [
    "- 上では、縦線というわかりやすい重みを用意して畳み込み層を適用していて、実際に縦の成分が良く検出されたことが分かると思います。"
   ]
  },
  {
   "cell_type": "code",
   "execution_count": 4,
   "metadata": {
    "id": "qCUMn_oaLTnP"
   },
   "outputs": [],
   "source": [
    "# 関数化\n",
    "def conv_simple(inp, weight):\n",
    "  H_out = inp.shape[0] - weight.shape[0] + 1\n",
    "  W_out = inp.shape[1] - weight.shape[1] + 1\n",
    "\n",
    "  out = np.zeros([H_out, W_out])\n",
    "\n",
    "  for i in range(H_out):\n",
    "    for j in range(W_out):\n",
    "      inp_ij = inp[i:i+weight.shape[0], j:j+weight.shape[1]]\n",
    "      out[i,j] = np.dot(inp_ij.flatten(), weight.flatten())\n",
    "\n",
    "  return out  # 特徴マップとも言います"
   ]
  },
  {
   "cell_type": "markdown",
   "metadata": {},
   "source": [
    "- weightをいろいろ変えてみましょう。"
   ]
  },
  {
   "cell_type": "code",
   "execution_count": 5,
   "metadata": {
    "id": "xuua38GpOGb6"
   },
   "outputs": [
    {
     "data": {
      "image/png": "[encoded data removed]",
      "text/plain": [
       "<Figure size 432x288 with 2 Axes>"
      ]
     },
     "metadata": {
      "needs_background": "light"
     },
     "output_type": "display_data"
    }
   ],
   "source": [
    "weight = np.array(\n",
    "    [[0,0,1],\n",
    "     [0,1,0],\n",
    "     [1,0,0],])\n",
    "# weight = np.random.rand(3,3)  # 0.~1.\n",
    "\n",
    "plt.subplot(1,2,1); plt.imshow(weight)\n",
    "out1 = conv_simple(inp, weight)\n",
    "plt.subplot(1,2,2); plt.imshow(out1)\n",
    "plt.show()"
   ]
  },
  {
   "cell_type": "markdown",
   "metadata": {},
   "source": [
    "- 人間に分かる重み(特徴)だけを抽出していても限界があることが分かっており、実際にはランダムな重みを何百種類と与えて畳み込み層を適用します。\n",
    "  - (そしてそのランダムな重みはあとから機械的に調整されます。)\n",
    "- 今は入力画像に対して1枚の特徴マップしか出力されていませんが、実際には多数の重みを用意して多数の特徴マップを作ります(後述)。"
   ]
  },
  {
   "cell_type": "code",
   "execution_count": 6,
   "metadata": {
    "id": "xuua38GpOGb6"
   },
   "outputs": [
    {
     "data": {
      "image/png": "[encoded data removed]",
      "text/plain": [
       "<Figure size 432x288 with 2 Axes>"
      ]
     },
     "metadata": {
      "needs_background": "light"
     },
     "output_type": "display_data"
    }
   ],
   "source": [
    "weight = np.random.rand(3,3)  # 0.~1.\n",
    "\n",
    "plt.subplot(1,2,1); plt.imshow(weight)\n",
    "out1 = conv_simple(inp, weight)\n",
    "plt.subplot(1,2,2); plt.imshow(out1)\n",
    "plt.show()"
   ]
  },
  {
   "cell_type": "markdown",
   "metadata": {
    "id": "hCUYmzT8ejLP"
   },
   "source": [
    "# Pool層\n",
    "\n",
    "特徴マップの近くの値は似た値を持つので、代表値を採用して特徴マップを小さくします"
   ]
  },
  {
   "cell_type": "markdown",
   "metadata": {
    "id": "_FEMIz1CgUlT"
   },
   "source": [
    "<img src=\"https://deepage.net/img/convolutional_neural_network/max_pooling.jpg\" width=\"640\">\n",
    "\n",
    "- 出典: https://deepage.net/deep_learning/2016/11/07/convolutional_neural_network.html"
   ]
  },
  {
   "cell_type": "code",
   "execution_count": 7,
   "metadata": {
    "id": "E5cPWEZQObiA"
   },
   "outputs": [],
   "source": [
    "def pool_simple(inp, pool_size=[2,2]):\n",
    "  H_out = int(inp.shape[0] / pool_size[0])\n",
    "  W_out = int(inp.shape[0] / pool_size[1])\n",
    "\n",
    "  out = np.zeros([H_out, W_out])\n",
    "\n",
    "  for i in range(H_out):\n",
    "    for j in range(W_out):\n",
    "      inp_ij = inp[i*pool_size[0]:(i+1)*pool_size[0], j*pool_size[1]:(j+1)*pool_size[1]]\n",
    "      out[i,j] = np.max(inp_ij.flatten())\n",
    "\n",
    "  return out"
   ]
  },
  {
   "cell_type": "code",
   "execution_count": 8,
   "metadata": {
    "id": "993UI-NcP9PN"
   },
   "outputs": [
    {
     "data": {
      "image/png": "[encoded data removed]",
      "text/plain": [
       "<Figure size 432x288 with 2 Axes>"
      ]
     },
     "metadata": {
      "needs_background": "light"
     },
     "output_type": "display_data"
    }
   ],
   "source": [
    "out1 = conv_simple(inp, weight)\n",
    "plt.subplot(1,2,1); plt.imshow(out1)\n",
    "out2 = pool_simple(out1)\n",
    "plt.subplot(1,2,2); plt.imshow(out2)\n",
    "plt.show()"
   ]
  },
  {
   "cell_type": "markdown",
   "metadata": {
    "id": "g4JdR70Oeoga"
   },
   "source": [
    "# Conv層 + Pool層"
   ]
  },
  {
   "cell_type": "code",
   "execution_count": 9,
   "metadata": {
    "id": "qJTo8v_yQBho"
   },
   "outputs": [
    {
     "data": {
      "image/png": "[encoded data removed]",
      "text/plain": [
       "<Figure size 864x864 with 4 Axes>"
      ]
     },
     "metadata": {
      "needs_background": "light"
     },
     "output_type": "display_data"
    }
   ],
   "source": [
    "weight_list = [np.random.rand(3,3), np.random.rand(3,3), np.random.rand(2,2)]\n",
    "\n",
    "out1 = conv_simple(inp, weight_list[0])\n",
    "out2 = pool_simple(out1)\n",
    "out3 = conv_simple(out2, weight_list[1])\n",
    "out4 = pool_simple(out3)\n",
    "out5 = conv_simple(out4, weight_list[2])\n",
    "out6 = pool_simple(out5)\n",
    "\n",
    "plt.figure(figsize=(12,12))\n",
    "plt.subplot(1,4,1); plt.imshow(inp)\n",
    "plt.subplot(1,4,2); plt.imshow(out2)\n",
    "plt.subplot(1,4,3); plt.imshow(out4)\n",
    "plt.subplot(1,4,4); plt.imshow(out6)\n",
    "plt.show()"
   ]
  },
  {
   "cell_type": "markdown",
   "metadata": {},
   "source": [
    "- ここまでで、Conv層とPool層を使うことで何かしらの特徴を抽出しながら入力データの圧縮がされていることがわかると思います。"
   ]
  },
  {
   "cell_type": "markdown",
   "metadata": {
    "id": "VnBEbaUKUCuz"
   },
   "source": [
    "# 【余力がある人向け】\n",
    "\n",
    "- conv層は普通はもう少し複雑なことをします。\n",
    "  - 普通は1層のconvで多数の特徴マップを出力します。具体的にはconv層は$C_{in}$枚の特徴マップから$C_{out}$枚の特徴マップを出力します。(このときkernelの数は$C_{in}*C_{out}$で、weightのサイズは$C_{in}*C_{out}$\\*kernel_size[0]\\*kernel_size[1])\n",
    "  - やることはkernelの数だけ計算が増えるだけで、ほとんど変わらないです。\n",
    "   - 特徴マップ$M_j(j=1 \\sim C_{out})$を作るとき: すべての入力特徴マップ$N_i(i=1 \\sim C_{in})$に対してkernel[$i$,$j$]を使ってconvを行い、できた$C_{in}$枚の特徴マップの画素ごとの和をとって$M_j$とします\n",
    "- Convの実装: https://pytorch.org/docs/stable/generated/torch.nn.Conv2d.html"
   ]
  },
  {
   "cell_type": "code",
   "execution_count": 10,
   "metadata": {
    "id": "vOVJYpAOXlb6"
   },
   "outputs": [
    {
     "data": {
      "image/png": "[encoded data removed]",
      "text/plain": [
       "<Figure size 1008x144 with 7 Axes>"
      ]
     },
     "metadata": {
      "needs_background": "light"
     },
     "output_type": "display_data"
    }
   ],
   "source": [
    "def conv(inp, weight):\n",
    "  outs = []\n",
    "\n",
    "  # 出力チャンネルの数だけループ\n",
    "  for j in range(weight.shape[3]):  # M_j (1~C_out)\n",
    "    out_j = []\n",
    "\n",
    "    # 入力チャンネルの数だけループ\n",
    "    for i in range(weight.shape[2]):  # M_i (1~C_in)\n",
    "\n",
    "      out_ij = conv_simple(inp[i], weight[:,:,i,j])\n",
    "      out_j.append(out_ij)\n",
    "\n",
    "    out_j = np.array(out_j)\n",
    "    out_j = np.sum(out_j, axis=0)  # 和\n",
    "    outs.append(out_j)  # 出力チャンネル1つ完成\n",
    "  \n",
    "  return np.array(outs)\n",
    "\n",
    "\n",
    "def pool(inp, pool_size=[2,2]):\n",
    "  outs = []\n",
    "\n",
    "  # 入力チャンネルの数(==出力チャンネルの数)だけループ\n",
    "  for i in range(len(inp)):\n",
    "    out_i = pool_simple(inp[i], pool_size=pool_size)\n",
    "    outs.append(out_i)\n",
    "  \n",
    "  return np.array(outs)\n",
    "\n",
    "\n",
    "C_out = 5  # 普通は256とか1024とか\n",
    "# 重みの範囲を-1.~1.にします\n",
    "weight_list = [\n",
    "    np.random.rand(3,3,1,C_out)*2.-0.5,\n",
    "    np.random.rand(3,3,C_out,C_out)*2.-0.5,\n",
    "    np.random.rand(2,2,C_out,C_out)*2.-0.5,\n",
    "]\n",
    "\n",
    "# 特徴マップ数が増やせるように、次元を1つ増やす\n",
    "inpc = inp.reshape(1,28,28)\n",
    "out1 = conv(inpc, weight_list[0])\n",
    "out2 = pool(out1)\n",
    "out3 = conv(out2, weight_list[1])\n",
    "out4 = pool(out3)\n",
    "out5 = conv(out4, weight_list[2])\n",
    "out6 = pool(out5)\n",
    "\n",
    "N = 7  # num_layers\n",
    "\n",
    "# 出力される特徴マップの3枚目までならRGB画像として簡単に見てみることができます\n",
    "# (特徴マップを0.~1.に抑え込んでいます)\n",
    "plt.figure(figsize=(N*2,2))\n",
    "plt.subplot(1,N,1); plt.imshow(inpc.transpose(1,2,0))\n",
    "plt.subplot(1,N,2); plt.imshow((out1[:3].transpose(1,2,0).astype(np.float)-np.min(out1))/(np.abs(out1).max()*2))\n",
    "plt.subplot(1,N,3); plt.imshow((out2[:3].transpose(1,2,0).astype(np.float)-np.min(out2))/(np.abs(out2).max()*2))\n",
    "plt.subplot(1,N,4); plt.imshow((out3[:3].transpose(1,2,0).astype(np.float)-np.min(out3))/(np.abs(out3).max()*2))\n",
    "plt.subplot(1,N,5); plt.imshow((out4[:3].transpose(1,2,0).astype(np.float)-np.min(out4))/(np.abs(out4).max()*2))\n",
    "plt.subplot(1,N,6); plt.imshow((out5[:3].transpose(1,2,0).astype(np.float)-np.min(out5))/(np.abs(out5).max()*2))\n",
    "plt.subplot(1,N,7); plt.imshow((out6[:3].transpose(1,2,0).astype(np.float)-np.min(out6))/(np.abs(out6).max()*2))\n",
    "plt.show()"
   ]
  },
  {
   "cell_type": "code",
   "execution_count": 11,
   "metadata": {},
   "outputs": [
    {
     "data": {
      "image/png": "[encoded data removed]",
      "text/plain": [
       "<Figure size 1008x720 with 31 Axes>"
      ]
     },
     "metadata": {
      "needs_background": "light"
     },
     "output_type": "display_data"
    }
   ],
   "source": [
    "# 出力された特徴マップをすべて見てみます\n",
    "plt.figure(figsize=(N*2,C_out*2))\n",
    "plt.subplot(C_out,N,1); plt.imshow(inpc.transpose(1,2,0))\n",
    "\n",
    "for j in range(C_out):\n",
    "    plt.subplot(C_out,N,2+N*j); plt.imshow(out1[j].astype(np.float)/np.abs(out1).max())\n",
    "    plt.subplot(C_out,N,3+N*j); plt.imshow(out2[j].astype(np.float)/np.abs(out2).max())\n",
    "    plt.subplot(C_out,N,4+N*j); plt.imshow(out3[j].astype(np.float)/np.abs(out3).max())\n",
    "    plt.subplot(C_out,N,5+N*j); plt.imshow(out4[j].astype(np.float)/np.abs(out4).max())\n",
    "    plt.subplot(C_out,N,6+N*j); plt.imshow(out5[j].astype(np.float)/np.abs(out5).max())\n",
    "    plt.subplot(C_out,N,7+N*j); plt.imshow(out6[j].astype(np.float)/np.abs(out6).max())\n",
    "plt.show()"
   ]
  },
  {
   "cell_type": "markdown",
   "metadata": {
    "id": "77dzlHuBetJD"
   },
   "source": [
    "# Linear層\n",
    "\n",
    "入力ベクトルから特徴を抽出します。\n",
    "- より具体的にはどれだけ重みと似ているかを計算しています。\n",
    "- N次元のベクトルを入力として、M次元のベクトル(M個の重みとの内積)を出力します。\n",
    "\n",
    "- (ただし全体が正の値だと内積も大きくなってしまう点に注意してください。普通は重みの初期値の与え方を工夫したり、特徴マップ・特徴ベクトルの値を適宜正規化したりします。)"
   ]
  },
  {
   "cell_type": "code",
   "execution_count": 12,
   "metadata": {
    "id": "FUW5mvqnSEIR"
   },
   "outputs": [
    {
     "data": {
      "image/png": "[encoded data removed]",
      "text/plain": [
       "<Figure size 432x288 with 2 Axes>"
      ]
     },
     "metadata": {
      "needs_background": "light"
     },
     "output_type": "display_data"
    },
    {
     "name": "stdout",
     "output_type": "stream",
     "text": [
      "output: 0.29751964401031145\n"
     ]
    },
    {
     "data": {
      "image/png": "[encoded data removed]",
      "text/plain": [
       "<Figure size 432x288 with 2 Axes>"
      ]
     },
     "metadata": {
      "needs_background": "light"
     },
     "output_type": "display_data"
    },
    {
     "name": "stdout",
     "output_type": "stream",
     "text": [
      "output: -0.29751964401031145\n"
     ]
    }
   ],
   "source": [
    "import numpy as np\n",
    "\n",
    "N = 10\n",
    "\n",
    "# 入力はベクトル\n",
    "inp = np.abs(np.random.rand(N))\n",
    "\n",
    "# Lunear層の重み\n",
    "weight = np.array([0,0,0,1,1,0,0,1,1,0])\n",
    "weight = ( weight - weight.mean() ) / weight.std()\n",
    "\n",
    "# 出力は重みとの内積 (特徴量抽出)\n",
    "out = np.dot(inp, weight)\n",
    "\n",
    "plt.subplot(1,2,1); plt.title(\"input\"); plt.imshow(inp.reshape(N,1)); \n",
    "plt.subplot(1,2,2); plt.title(\"weight\"); plt.imshow(weight.reshape(N,1)); \n",
    "plt.show()\n",
    "print(\"output:\", out)\n",
    "\n",
    "# --------------------------------\n",
    "# 反転させた重みも用意してみます\n",
    "weight = np.array([0,0,0,1,1,0,0,1,1,0])\n",
    "weight = 1-weight\n",
    "weight = ( weight - weight.mean() ) / weight.std()\n",
    "\n",
    "# 出力は重みとの内積 (特徴量抽出)\n",
    "out = np.dot(inp, weight)\n",
    "\n",
    "plt.subplot(1,2,1); plt.title(\"input\"); plt.imshow(inp.reshape(N,1)); \n",
    "plt.subplot(1,2,2); plt.title(\"weight\"); plt.imshow(weight.reshape(N,1)); \n",
    "plt.show()\n",
    "print(\"output:\", out)"
   ]
  },
  {
   "cell_type": "markdown",
   "metadata": {},
   "source": [
    "- 入力が重みと似ていると出力される値が大きくなることが分かると思います。\n",
    "- 上の例は、出力が1つですが、M個の出力ができる(M個の重みをもつ)ようにしてlinear関数を定義します"
   ]
  },
  {
   "cell_type": "code",
   "execution_count": 13,
   "metadata": {
    "id": "B9MIZ5jij6iQ"
   },
   "outputs": [
    {
     "name": "stdout",
     "output_type": "stream",
     "text": [
      "[0.72310304 0.67839193 1.29797958]\n"
     ]
    }
   ],
   "source": [
    "def linear(inp, weight):\n",
    "  outs = []\n",
    "\n",
    "  # 出力チャンネルの数だけループ\n",
    "  for j in range(weight.shape[1]):\n",
    "    out = np.dot(inp, weight[:,j])\n",
    "    outs.append(out)\n",
    "\n",
    "  return np.array(outs)  # 特徴ベクトル\n",
    "\n",
    "# 4次元のベクトルを入力として、3次元のベクトルを出力\n",
    "weight = np.random.rand(4,3)  # M=3\n",
    "inp = np.random.rand(4)\n",
    "\n",
    "out1 = linear(inp, weight)\n",
    "print(out1)"
   ]
  },
  {
   "cell_type": "markdown",
   "metadata": {
    "id": "2iwhEAnUinWV"
   },
   "source": [
    "- Linearの実装: https://pytorch.org/docs/stable/generated/torch.nn.Linear.html#torch.nn.Linear\n",
    "  - (convもですが、普通は行列を使って実装します)"
   ]
  },
  {
   "cell_type": "code",
   "execution_count": 14,
   "metadata": {
    "id": "cXpnhSbwho9a"
   },
   "outputs": [
    {
     "name": "stdout",
     "output_type": "stream",
     "text": [
      "[8488.68506011]\n"
     ]
    }
   ],
   "source": [
    "inp = x_train[0]\n",
    "\n",
    "weight_list = [np.random.rand(3,3)*2-0.5, np.random.rand(3,3)*2-0.5, np.random.rand(2,2)*2-0.5, np.random.rand(4,1)*2-0.5]\n",
    "\n",
    "out1 = conv_simple(inp, weight_list[0])\n",
    "out2 = pool_simple(out1)\n",
    "out3 = conv_simple(out2, weight_list[1])\n",
    "out4 = pool_simple(out3)\n",
    "out5 = conv_simple(out4, weight_list[2])\n",
    "out6 = pool_simple(out5)\n",
    "out7 = out6.flatten()  # 特徴マップを特徴ベクトルに変換\n",
    "out8 = linear(out7, weight_list[3])\n",
    "\n",
    "print(out8)"
   ]
  },
  {
   "cell_type": "markdown",
   "metadata": {},
   "source": [
    "- ここまでで、Conv層、Pool層、Linear層を使い、画像から一つの値を出力するモデルが完成しました。\n",
    "- しかし層を重ねるうちに様々な範囲の値をとってしまっているせいで、出力の値が暴れてしまっているので、次でこの問題を修正します。"
   ]
  },
  {
   "cell_type": "markdown",
   "metadata": {
    "id": "ZCQ86EQDpMCs"
   },
   "source": [
    "# 活性化関数\n",
    "出力の値をある範囲に抑え込みます。ここでは例としてsigmoid関数を採用します。"
   ]
  },
  {
   "cell_type": "code",
   "execution_count": 15,
   "metadata": {
    "id": "MMtYx5QRjRTX"
   },
   "outputs": [],
   "source": [
    "def sigmoid(x):\n",
    "    return 1 / (1 + np.exp(-x))"
   ]
  },
  {
   "cell_type": "code",
   "execution_count": 16,
   "metadata": {
    "id": "N2yBty4Yj0V5"
   },
   "outputs": [
    {
     "name": "stdout",
     "output_type": "stream",
     "text": [
      "[0.61727717]\n"
     ]
    }
   ],
   "source": [
    "inp = x_train[0]\n",
    "\n",
    "weight_list = [np.random.rand(3,3)*2-0.5, np.random.rand(3,3)*2-0.5, np.random.rand(2,2)*2-0.5, np.random.rand(4,1)*2-0.5]\n",
    "\n",
    "out1 = sigmoid(conv_simple(inp, weight_list[0]))\n",
    "out2 = pool_simple(out1)\n",
    "out3 = sigmoid(conv_simple(out2, weight_list[1]))\n",
    "out4 = pool_simple(out3)\n",
    "out5 = sigmoid(conv_simple(out4, weight_list[2]))\n",
    "out6 = pool_simple(out5)\n",
    "out7 = out6.flatten()  # 特徴マップを特徴ベクトルに変換\n",
    "out8 = sigmoid(linear(out7, weight_list[3]))\n",
    "\n",
    "print(out8)"
   ]
  },
  {
   "cell_type": "markdown",
   "metadata": {},
   "source": [
    "- これで出力の範囲が0~1に抑えられました。あとはうまくパラメータを調整するだけです。"
   ]
  },
  {
   "cell_type": "markdown",
   "metadata": {},
   "source": [
    "# モデル化\n",
    "\n",
    "最後に深層学習モデルらしい書き方にまとめます。"
   ]
  },
  {
   "cell_type": "code",
   "execution_count": 17,
   "metadata": {
    "id": "jDb6IpssmzFw"
   },
   "outputs": [],
   "source": [
    "class CNN(object):\n",
    "  def __init__(self):\n",
    "    weight_list = [np.random.rand(3,3), np.random.rand(3,3), np.random.rand(2,2), np.random.rand(4,1)]\n",
    "    self.weight_list = weight_list\n",
    "\n",
    "  def forward(self, inp):\n",
    "    out1 = sigmoid(conv_simple(inp, self.weight_list[0]))\n",
    "    out2 = pool_simple(out1)\n",
    "    out3 = sigmoid(conv_simple(out2, self.weight_list[1]))\n",
    "    out4 = pool_simple(out3)\n",
    "    out5 = sigmoid(conv_simple(out4, self.weight_list[2]))\n",
    "    out6 = pool_simple(out5)\n",
    "    out7 = out6.flatten()  # 特徴マップを特徴ベクトルに変換\n",
    "    out8 = sigmoid(linear(out7, self.weight_list[3]))\n",
    "    return out8\n",
    "\n",
    "model = CNN()"
   ]
  },
  {
   "cell_type": "code",
   "execution_count": 18,
   "metadata": {
    "id": "Ti5c52qKnLQd"
   },
   "outputs": [
    {
     "data": {
      "text/plain": [
       "array([0.90129619])"
      ]
     },
     "execution_count": 18,
     "metadata": {},
     "output_type": "execute_result"
    }
   ],
   "source": [
    "inp = x_train[0]\n",
    "model.forward(inp)"
   ]
  },
  {
   "cell_type": "markdown",
   "metadata": {},
   "source": [
    "以上で、入力から1つの値を出力するNNモデルができました。  \n",
    "今のままではまだ各パラメータが適当なので、これからこれを調整して意味のあるモデルにしていきます。"
   ]
  },
  {
   "cell_type": "markdown",
   "metadata": {
    "id": "FBQiCrXOmgyf"
   },
   "source": [
    "# Loss\n",
    "\n",
    "今、入力画像は5であるを真(0), それ以外であるを偽(1)とします。\n",
    "Lossは例えばこのように求められます。\n",
    "\n",
    "$$\n",
    "  Loss = (Pred - True)^2\n",
    "$$\n",
    "\n",
    "(多クラス分類では、最後のLinear層でクラスの数だけ値を出力するように変更します)"
   ]
  },
  {
   "cell_type": "markdown",
   "metadata": {
    "id": "GHTLyQBjvsAp"
   },
   "source": [
    "多数学習データで入力で予測をし、Lossを求め、Lossの最小化するように重みを少しずつ更新するのが深層学習の流れです。\n",
    "\n",
    "次の章で重みを更新する方法を学びます。\n",
    "\n",
    "(とはいえlossの最小化はライブラリが自動でやってくれるので、基本的にここまでを理解すれば深層学習が使えて、簡単な論文であれば読めるようになると思います。)"
   ]
  },
  {
   "cell_type": "code",
   "execution_count": null,
   "metadata": {
    "id": "H2jMHCKwpyLO"
   },
   "outputs": [],
   "source": []
  }
 ],
 "metadata": {
  "colab": {
   "authorship_tag": "ABX9TyM0weFL+i/KYBfTJFecDuRT",
   "collapsed_sections": [],
   "name": "exercise2.ipynb",
   "provenance": []
  },
  "kernelspec": {
   "display_name": "Python 3",
   "language": "python",
   "name": "python3"
  },
  "language_info": {
   "codemirror_mode": {
    "name": "ipython",
    "version": 3
   },
   "file_extension": ".py",
   "mimetype": "text/x-python",
   "name": "python",
   "nbconvert_exporter": "python",
   "pygments_lexer": "ipython3",
   "version": "3.8.0"
  }
 },
 "nbformat": 4,
 "nbformat_minor": 4
}
