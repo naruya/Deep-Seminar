{
 "cells": [
  {
   "cell_type": "markdown",
   "metadata": {
    "id": "BHp0j7eH31nq"
   },
   "source": [
    "# 深層生成モデル（VAE・GAN）\n",
    "\n",
    "- どんなことができるのか、手を動かしてみてみましょう"
   ]
  },
  {
   "cell_type": "markdown",
   "metadata": {
    "id": "bLrGSeT_qZQX"
   },
   "source": [
    "# VAE (Variational Auto Encoder)"
   ]
  },
  {
   "cell_type": "markdown",
   "metadata": {
    "id": "VbIQOlDgv6W0"
   },
   "source": [
    "- VAEは深層生成モデルの一種で、与えられたデータと似たようなデータを幅広く生成することができます。\n",
    "  - VAE全体はエンコードして小さい次元のベクトルに圧縮した後にデコードするような、入力を再構成するNNモデルとなっています。\n",
    "  - エンコード先はが正規分布に近づくようなlossを入れることで、コンパクトに圧縮されたベクトルzにエンコードすることができ、またzを少し変化させると様々な画像をデコードすることができます。\n",
    "\n",
    "\n",
    "<img src=\"https://qiita-user-contents.imgix.net/https%3A%2F%2Fqiita-image-store.s3.amazonaws.com%2F0%2F50670%2F9ea8d9b7-dc55-2e58-31c3-7d303f4dae8d.png?ixlib=rb-4.0.0&auto=format&gif-q=60&q=75&w=1400&fit=max&s=d6d1ca8aa21ea10e80f2ee774446038c\" width=\"640\">\n",
    "\n",
    "- 出典: [Variational Autoencoder徹底解説\n",
    "](https://qiita.com/kenmatsu4/items/b029d697e9995d93aa24)\n",
    "\n",
    "- 目的関数\n",
    "\n",
    "$$\n",
    "Loss = 再構成誤差 + zのはみだし具合(KLダイバージェンス)\n",
    "$$"
   ]
  },
  {
   "cell_type": "markdown",
   "metadata": {},
   "source": [
    "- 時間がかかるのでepoch数を減らして実行してみます"
   ]
  },
  {
   "cell_type": "code",
   "execution_count": 1,
   "metadata": {
    "id": "2GP-xbH8qNTb"
   },
   "outputs": [
    {
     "name": "stdout",
     "output_type": "stream",
     "text": [
      "Train Epoch: 1 [0/60000 (0%)]\tLoss: 550.595764\n",
      "Train Epoch: 1 [1280/60000 (2%)]\tLoss: 287.982056\n",
      "Train Epoch: 1 [2560/60000 (4%)]\tLoss: 242.801651\n",
      "Train Epoch: 1 [3840/60000 (6%)]\tLoss: 213.623199\n",
      "Train Epoch: 1 [5120/60000 (9%)]\tLoss: 216.030853\n",
      "Train Epoch: 1 [6400/60000 (11%)]\tLoss: 216.303207\n",
      "Train Epoch: 1 [7680/60000 (13%)]\tLoss: 203.971207\n",
      "Train Epoch: 1 [8960/60000 (15%)]\tLoss: 197.527985\n",
      "Train Epoch: 1 [10240/60000 (17%)]\tLoss: 199.671753\n",
      "Train Epoch: 1 [11520/60000 (19%)]\tLoss: 192.269043\n",
      "Train Epoch: 1 [12800/60000 (21%)]\tLoss: 186.938980\n",
      "Train Epoch: 1 [14080/60000 (23%)]\tLoss: 179.695877\n",
      "Train Epoch: 1 [15360/60000 (26%)]\tLoss: 168.194870\n",
      "Train Epoch: 1 [16640/60000 (28%)]\tLoss: 165.249542\n",
      "Train Epoch: 1 [17920/60000 (30%)]\tLoss: 166.312332\n",
      "Train Epoch: 1 [19200/60000 (32%)]\tLoss: 162.762482\n",
      "Train Epoch: 1 [20480/60000 (34%)]\tLoss: 167.461792\n",
      "Train Epoch: 1 [21760/60000 (36%)]\tLoss: 154.407196\n",
      "Train Epoch: 1 [23040/60000 (38%)]\tLoss: 153.276062\n",
      "Train Epoch: 1 [24320/60000 (41%)]\tLoss: 149.537003\n",
      "Train Epoch: 1 [25600/60000 (43%)]\tLoss: 154.969391\n",
      "Train Epoch: 1 [26880/60000 (45%)]\tLoss: 156.321213\n",
      "Train Epoch: 1 [28160/60000 (47%)]\tLoss: 148.482239\n",
      "Train Epoch: 1 [29440/60000 (49%)]\tLoss: 149.441269\n",
      "Train Epoch: 1 [30720/60000 (51%)]\tLoss: 144.996063\n",
      "Train Epoch: 1 [32000/60000 (53%)]\tLoss: 143.773865\n",
      "Train Epoch: 1 [33280/60000 (55%)]\tLoss: 143.741455\n",
      "Train Epoch: 1 [34560/60000 (58%)]\tLoss: 145.463394\n",
      "Train Epoch: 1 [35840/60000 (60%)]\tLoss: 142.603760\n",
      "Train Epoch: 1 [37120/60000 (62%)]\tLoss: 138.537796\n",
      "Train Epoch: 1 [38400/60000 (64%)]\tLoss: 136.863266\n",
      "Train Epoch: 1 [39680/60000 (66%)]\tLoss: 141.317612\n",
      "Train Epoch: 1 [40960/60000 (68%)]\tLoss: 135.600006\n",
      "Train Epoch: 1 [42240/60000 (70%)]\tLoss: 137.085205\n",
      "Train Epoch: 1 [43520/60000 (72%)]\tLoss: 135.763840\n",
      "Train Epoch: 1 [44800/60000 (75%)]\tLoss: 130.929977\n",
      "Train Epoch: 1 [46080/60000 (77%)]\tLoss: 138.923218\n",
      "Train Epoch: 1 [47360/60000 (79%)]\tLoss: 137.344742\n",
      "Train Epoch: 1 [48640/60000 (81%)]\tLoss: 135.910385\n",
      "Train Epoch: 1 [49920/60000 (83%)]\tLoss: 129.528473\n",
      "Train Epoch: 1 [51200/60000 (85%)]\tLoss: 132.102951\n",
      "Train Epoch: 1 [52480/60000 (87%)]\tLoss: 134.186996\n",
      "Train Epoch: 1 [53760/60000 (90%)]\tLoss: 126.278847\n",
      "Train Epoch: 1 [55040/60000 (92%)]\tLoss: 132.283127\n",
      "Train Epoch: 1 [56320/60000 (94%)]\tLoss: 132.642441\n",
      "Train Epoch: 1 [57600/60000 (96%)]\tLoss: 129.768478\n",
      "Train Epoch: 1 [58880/60000 (98%)]\tLoss: 134.149750\n",
      "====> Epoch: 1 Average loss: 164.8554\n",
      "====> Test set loss: 128.1345\n",
      "Train Epoch: 2 [0/60000 (0%)]\tLoss: 123.857483\n",
      "Train Epoch: 2 [1280/60000 (2%)]\tLoss: 130.576630\n",
      "Train Epoch: 2 [2560/60000 (4%)]\tLoss: 120.633873\n",
      "Train Epoch: 2 [3840/60000 (6%)]\tLoss: 128.934464\n",
      "Train Epoch: 2 [5120/60000 (9%)]\tLoss: 129.286057\n",
      "Train Epoch: 2 [6400/60000 (11%)]\tLoss: 126.731430\n",
      "Train Epoch: 2 [7680/60000 (13%)]\tLoss: 126.215179\n",
      "Train Epoch: 2 [8960/60000 (15%)]\tLoss: 127.598969\n",
      "Train Epoch: 2 [10240/60000 (17%)]\tLoss: 124.811150\n",
      "Train Epoch: 2 [11520/60000 (19%)]\tLoss: 120.234749\n",
      "Train Epoch: 2 [12800/60000 (21%)]\tLoss: 125.330246\n",
      "Train Epoch: 2 [14080/60000 (23%)]\tLoss: 125.615234\n",
      "Train Epoch: 2 [15360/60000 (26%)]\tLoss: 124.513947\n",
      "Train Epoch: 2 [16640/60000 (28%)]\tLoss: 126.385956\n",
      "Train Epoch: 2 [17920/60000 (30%)]\tLoss: 122.737869\n",
      "Train Epoch: 2 [19200/60000 (32%)]\tLoss: 123.886749\n",
      "Train Epoch: 2 [20480/60000 (34%)]\tLoss: 122.428024\n",
      "Train Epoch: 2 [21760/60000 (36%)]\tLoss: 123.816864\n",
      "Train Epoch: 2 [23040/60000 (38%)]\tLoss: 123.283905\n",
      "Train Epoch: 2 [24320/60000 (41%)]\tLoss: 122.145889\n",
      "Train Epoch: 2 [25600/60000 (43%)]\tLoss: 118.836884\n",
      "Train Epoch: 2 [26880/60000 (45%)]\tLoss: 118.756752\n",
      "Train Epoch: 2 [28160/60000 (47%)]\tLoss: 125.290443\n",
      "Train Epoch: 2 [29440/60000 (49%)]\tLoss: 122.523354\n",
      "Train Epoch: 2 [30720/60000 (51%)]\tLoss: 117.786148\n",
      "Train Epoch: 2 [32000/60000 (53%)]\tLoss: 119.198685\n",
      "Train Epoch: 2 [33280/60000 (55%)]\tLoss: 124.256905\n",
      "Train Epoch: 2 [34560/60000 (58%)]\tLoss: 117.114510\n",
      "Train Epoch: 2 [35840/60000 (60%)]\tLoss: 115.025963\n",
      "Train Epoch: 2 [37120/60000 (62%)]\tLoss: 119.339828\n",
      "Train Epoch: 2 [38400/60000 (64%)]\tLoss: 120.265221\n",
      "Train Epoch: 2 [39680/60000 (66%)]\tLoss: 121.589767\n",
      "Train Epoch: 2 [40960/60000 (68%)]\tLoss: 115.960037\n",
      "Train Epoch: 2 [42240/60000 (70%)]\tLoss: 116.858063\n",
      "Train Epoch: 2 [43520/60000 (72%)]\tLoss: 120.354919\n",
      "Train Epoch: 2 [44800/60000 (75%)]\tLoss: 119.434906\n",
      "Train Epoch: 2 [46080/60000 (77%)]\tLoss: 114.847801\n",
      "Train Epoch: 2 [47360/60000 (79%)]\tLoss: 115.614342\n",
      "Train Epoch: 2 [48640/60000 (81%)]\tLoss: 119.164261\n",
      "Train Epoch: 2 [49920/60000 (83%)]\tLoss: 121.876266\n",
      "Train Epoch: 2 [51200/60000 (85%)]\tLoss: 121.933479\n",
      "Train Epoch: 2 [52480/60000 (87%)]\tLoss: 121.828873\n",
      "Train Epoch: 2 [53760/60000 (90%)]\tLoss: 115.843834\n",
      "Train Epoch: 2 [55040/60000 (92%)]\tLoss: 114.530930\n",
      "Train Epoch: 2 [56320/60000 (94%)]\tLoss: 122.686127\n",
      "Train Epoch: 2 [57600/60000 (96%)]\tLoss: 113.210793\n",
      "Train Epoch: 2 [58880/60000 (98%)]\tLoss: 121.891304\n",
      "====> Epoch: 2 Average loss: 122.0216\n",
      "====> Test set loss: 116.0042\n",
      "Train Epoch: 3 [0/60000 (0%)]\tLoss: 117.037003\n",
      "Train Epoch: 3 [1280/60000 (2%)]\tLoss: 114.776764\n",
      "Train Epoch: 3 [2560/60000 (4%)]\tLoss: 114.757584\n",
      "Train Epoch: 3 [3840/60000 (6%)]\tLoss: 119.504852\n",
      "Train Epoch: 3 [5120/60000 (9%)]\tLoss: 113.168205\n",
      "Train Epoch: 3 [6400/60000 (11%)]\tLoss: 119.137169\n",
      "Train Epoch: 3 [7680/60000 (13%)]\tLoss: 113.456680\n",
      "Train Epoch: 3 [8960/60000 (15%)]\tLoss: 113.398407\n",
      "Train Epoch: 3 [10240/60000 (17%)]\tLoss: 113.233376\n",
      "Train Epoch: 3 [11520/60000 (19%)]\tLoss: 116.266098\n",
      "Train Epoch: 3 [12800/60000 (21%)]\tLoss: 116.503098\n",
      "Train Epoch: 3 [14080/60000 (23%)]\tLoss: 115.268875\n",
      "Train Epoch: 3 [15360/60000 (26%)]\tLoss: 112.991455\n",
      "Train Epoch: 3 [16640/60000 (28%)]\tLoss: 116.597580\n",
      "Train Epoch: 3 [17920/60000 (30%)]\tLoss: 116.905830\n",
      "Train Epoch: 3 [19200/60000 (32%)]\tLoss: 109.774872\n",
      "Train Epoch: 3 [20480/60000 (34%)]\tLoss: 113.501366\n",
      "Train Epoch: 3 [21760/60000 (36%)]\tLoss: 113.274178\n",
      "Train Epoch: 3 [23040/60000 (38%)]\tLoss: 112.505630\n",
      "Train Epoch: 3 [24320/60000 (41%)]\tLoss: 112.741570\n",
      "Train Epoch: 3 [25600/60000 (43%)]\tLoss: 118.447845\n",
      "Train Epoch: 3 [26880/60000 (45%)]\tLoss: 120.662521\n",
      "Train Epoch: 3 [28160/60000 (47%)]\tLoss: 111.600677\n",
      "Train Epoch: 3 [29440/60000 (49%)]\tLoss: 115.883194\n",
      "Train Epoch: 3 [30720/60000 (51%)]\tLoss: 116.404755\n",
      "Train Epoch: 3 [32000/60000 (53%)]\tLoss: 115.922226\n",
      "Train Epoch: 3 [33280/60000 (55%)]\tLoss: 116.282509\n",
      "Train Epoch: 3 [34560/60000 (58%)]\tLoss: 111.363457\n",
      "Train Epoch: 3 [35840/60000 (60%)]\tLoss: 116.081230\n",
      "Train Epoch: 3 [37120/60000 (62%)]\tLoss: 120.048325\n",
      "Train Epoch: 3 [38400/60000 (64%)]\tLoss: 116.040108\n",
      "Train Epoch: 3 [39680/60000 (66%)]\tLoss: 116.887070\n",
      "Train Epoch: 3 [40960/60000 (68%)]\tLoss: 113.031456\n",
      "Train Epoch: 3 [42240/60000 (70%)]\tLoss: 113.499130\n",
      "Train Epoch: 3 [43520/60000 (72%)]\tLoss: 113.330200\n",
      "Train Epoch: 3 [44800/60000 (75%)]\tLoss: 113.574554\n",
      "Train Epoch: 3 [46080/60000 (77%)]\tLoss: 114.805374\n",
      "Train Epoch: 3 [47360/60000 (79%)]\tLoss: 114.781822\n",
      "Train Epoch: 3 [48640/60000 (81%)]\tLoss: 109.210091\n",
      "Train Epoch: 3 [49920/60000 (83%)]\tLoss: 112.337555\n",
      "Train Epoch: 3 [51200/60000 (85%)]\tLoss: 114.106903\n",
      "Train Epoch: 3 [52480/60000 (87%)]\tLoss: 112.466087\n",
      "Train Epoch: 3 [53760/60000 (90%)]\tLoss: 114.904022\n",
      "Train Epoch: 3 [55040/60000 (92%)]\tLoss: 112.291801\n",
      "Train Epoch: 3 [56320/60000 (94%)]\tLoss: 114.647423\n",
      "Train Epoch: 3 [57600/60000 (96%)]\tLoss: 112.924667\n",
      "Train Epoch: 3 [58880/60000 (98%)]\tLoss: 111.304520\n",
      "====> Epoch: 3 Average loss: 114.5006\n",
      "====> Test set loss: 111.4008\n",
      "Train Epoch: 4 [0/60000 (0%)]\tLoss: 112.052094\n",
      "Train Epoch: 4 [1280/60000 (2%)]\tLoss: 111.231529\n",
      "Train Epoch: 4 [2560/60000 (4%)]\tLoss: 112.165092\n",
      "Train Epoch: 4 [3840/60000 (6%)]\tLoss: 115.582779\n",
      "Train Epoch: 4 [5120/60000 (9%)]\tLoss: 108.364258\n",
      "Train Epoch: 4 [6400/60000 (11%)]\tLoss: 113.595276\n",
      "Train Epoch: 4 [7680/60000 (13%)]\tLoss: 109.402222\n",
      "Train Epoch: 4 [8960/60000 (15%)]\tLoss: 116.161217\n",
      "Train Epoch: 4 [10240/60000 (17%)]\tLoss: 117.132889\n",
      "Train Epoch: 4 [11520/60000 (19%)]\tLoss: 112.577927\n",
      "Train Epoch: 4 [12800/60000 (21%)]\tLoss: 112.747391\n",
      "Train Epoch: 4 [14080/60000 (23%)]\tLoss: 115.483231\n",
      "Train Epoch: 4 [15360/60000 (26%)]\tLoss: 117.257347\n",
      "Train Epoch: 4 [16640/60000 (28%)]\tLoss: 110.050247\n",
      "Train Epoch: 4 [17920/60000 (30%)]\tLoss: 108.694374\n",
      "Train Epoch: 4 [19200/60000 (32%)]\tLoss: 109.969170\n",
      "Train Epoch: 4 [20480/60000 (34%)]\tLoss: 111.543533\n",
      "Train Epoch: 4 [21760/60000 (36%)]\tLoss: 115.150169\n",
      "Train Epoch: 4 [23040/60000 (38%)]\tLoss: 108.276428\n",
      "Train Epoch: 4 [24320/60000 (41%)]\tLoss: 110.876335\n",
      "Train Epoch: 4 [25600/60000 (43%)]\tLoss: 110.621185\n",
      "Train Epoch: 4 [26880/60000 (45%)]\tLoss: 109.089874\n",
      "Train Epoch: 4 [28160/60000 (47%)]\tLoss: 110.446648\n",
      "Train Epoch: 4 [29440/60000 (49%)]\tLoss: 111.123375\n",
      "Train Epoch: 4 [30720/60000 (51%)]\tLoss: 111.446587\n",
      "Train Epoch: 4 [32000/60000 (53%)]\tLoss: 108.972908\n",
      "Train Epoch: 4 [33280/60000 (55%)]\tLoss: 110.763618\n",
      "Train Epoch: 4 [34560/60000 (58%)]\tLoss: 114.331444\n",
      "Train Epoch: 4 [35840/60000 (60%)]\tLoss: 110.222778\n",
      "Train Epoch: 4 [37120/60000 (62%)]\tLoss: 111.312355\n",
      "Train Epoch: 4 [38400/60000 (64%)]\tLoss: 111.650116\n",
      "Train Epoch: 4 [39680/60000 (66%)]\tLoss: 113.275818\n",
      "Train Epoch: 4 [40960/60000 (68%)]\tLoss: 111.395370\n",
      "Train Epoch: 4 [42240/60000 (70%)]\tLoss: 113.030807\n",
      "Train Epoch: 4 [43520/60000 (72%)]\tLoss: 111.500259\n",
      "Train Epoch: 4 [44800/60000 (75%)]\tLoss: 110.398109\n",
      "Train Epoch: 4 [46080/60000 (77%)]\tLoss: 108.656761\n",
      "Train Epoch: 4 [47360/60000 (79%)]\tLoss: 108.651413\n",
      "Train Epoch: 4 [48640/60000 (81%)]\tLoss: 105.984497\n",
      "Train Epoch: 4 [49920/60000 (83%)]\tLoss: 112.042656\n",
      "Train Epoch: 4 [51200/60000 (85%)]\tLoss: 108.484085\n",
      "Train Epoch: 4 [52480/60000 (87%)]\tLoss: 112.930649\n",
      "Train Epoch: 4 [53760/60000 (90%)]\tLoss: 115.461166\n",
      "Train Epoch: 4 [55040/60000 (92%)]\tLoss: 112.013062\n",
      "Train Epoch: 4 [56320/60000 (94%)]\tLoss: 106.776459\n",
      "Train Epoch: 4 [57600/60000 (96%)]\tLoss: 115.344437\n",
      "Train Epoch: 4 [58880/60000 (98%)]\tLoss: 109.698456\n",
      "====> Epoch: 4 Average loss: 111.4363\n",
      "====> Test set loss: 109.4620\n",
      "Train Epoch: 5 [0/60000 (0%)]\tLoss: 111.082909\n",
      "Train Epoch: 5 [1280/60000 (2%)]\tLoss: 113.060677\n",
      "Train Epoch: 5 [2560/60000 (4%)]\tLoss: 113.950851\n",
      "Train Epoch: 5 [3840/60000 (6%)]\tLoss: 115.257408\n",
      "Train Epoch: 5 [5120/60000 (9%)]\tLoss: 109.494102\n",
      "Train Epoch: 5 [6400/60000 (11%)]\tLoss: 112.074158\n",
      "Train Epoch: 5 [7680/60000 (13%)]\tLoss: 111.627899\n",
      "Train Epoch: 5 [8960/60000 (15%)]\tLoss: 108.465790\n",
      "Train Epoch: 5 [10240/60000 (17%)]\tLoss: 110.462448\n",
      "Train Epoch: 5 [11520/60000 (19%)]\tLoss: 109.300110\n",
      "Train Epoch: 5 [12800/60000 (21%)]\tLoss: 109.709923\n",
      "Train Epoch: 5 [14080/60000 (23%)]\tLoss: 111.102646\n",
      "Train Epoch: 5 [15360/60000 (26%)]\tLoss: 109.874336\n",
      "Train Epoch: 5 [16640/60000 (28%)]\tLoss: 110.200691\n",
      "Train Epoch: 5 [17920/60000 (30%)]\tLoss: 113.683266\n",
      "Train Epoch: 5 [19200/60000 (32%)]\tLoss: 117.210953\n",
      "Train Epoch: 5 [20480/60000 (34%)]\tLoss: 107.724884\n",
      "Train Epoch: 5 [21760/60000 (36%)]\tLoss: 112.185410\n",
      "Train Epoch: 5 [23040/60000 (38%)]\tLoss: 109.684418\n",
      "Train Epoch: 5 [24320/60000 (41%)]\tLoss: 108.938889\n",
      "Train Epoch: 5 [25600/60000 (43%)]\tLoss: 113.837997\n",
      "Train Epoch: 5 [26880/60000 (45%)]\tLoss: 112.577629\n",
      "Train Epoch: 5 [28160/60000 (47%)]\tLoss: 111.305290\n",
      "Train Epoch: 5 [29440/60000 (49%)]\tLoss: 109.659409\n",
      "Train Epoch: 5 [30720/60000 (51%)]\tLoss: 107.261696\n",
      "Train Epoch: 5 [32000/60000 (53%)]\tLoss: 106.404953\n",
      "Train Epoch: 5 [33280/60000 (55%)]\tLoss: 104.664246\n",
      "Train Epoch: 5 [34560/60000 (58%)]\tLoss: 111.269928\n",
      "Train Epoch: 5 [35840/60000 (60%)]\tLoss: 107.945465\n",
      "Train Epoch: 5 [37120/60000 (62%)]\tLoss: 107.384857\n",
      "Train Epoch: 5 [38400/60000 (64%)]\tLoss: 109.551552\n",
      "Train Epoch: 5 [39680/60000 (66%)]\tLoss: 114.005356\n",
      "Train Epoch: 5 [40960/60000 (68%)]\tLoss: 110.215042\n",
      "Train Epoch: 5 [42240/60000 (70%)]\tLoss: 110.454414\n",
      "Train Epoch: 5 [43520/60000 (72%)]\tLoss: 107.744980\n",
      "Train Epoch: 5 [44800/60000 (75%)]\tLoss: 109.709808\n",
      "Train Epoch: 5 [46080/60000 (77%)]\tLoss: 109.344131\n",
      "Train Epoch: 5 [47360/60000 (79%)]\tLoss: 108.325424\n",
      "Train Epoch: 5 [48640/60000 (81%)]\tLoss: 113.565521\n",
      "Train Epoch: 5 [49920/60000 (83%)]\tLoss: 106.110939\n",
      "Train Epoch: 5 [51200/60000 (85%)]\tLoss: 110.159134\n",
      "Train Epoch: 5 [52480/60000 (87%)]\tLoss: 113.429108\n",
      "Train Epoch: 5 [53760/60000 (90%)]\tLoss: 107.978783\n",
      "Train Epoch: 5 [55040/60000 (92%)]\tLoss: 113.720276\n",
      "Train Epoch: 5 [56320/60000 (94%)]\tLoss: 109.164856\n",
      "Train Epoch: 5 [57600/60000 (96%)]\tLoss: 111.169739\n",
      "Train Epoch: 5 [58880/60000 (98%)]\tLoss: 109.429985\n",
      "====> Epoch: 5 Average loss: 109.7120\n",
      "====> Test set loss: 108.2358\n",
      "Train Epoch: 6 [0/60000 (0%)]\tLoss: 112.188278\n",
      "Train Epoch: 6 [1280/60000 (2%)]\tLoss: 108.195358\n",
      "Train Epoch: 6 [2560/60000 (4%)]\tLoss: 112.676460\n",
      "Train Epoch: 6 [3840/60000 (6%)]\tLoss: 105.103088\n",
      "Train Epoch: 6 [5120/60000 (9%)]\tLoss: 105.141190\n",
      "Train Epoch: 6 [6400/60000 (11%)]\tLoss: 109.508141\n",
      "Train Epoch: 6 [7680/60000 (13%)]\tLoss: 108.504074\n",
      "Train Epoch: 6 [8960/60000 (15%)]\tLoss: 107.786743\n",
      "Train Epoch: 6 [10240/60000 (17%)]\tLoss: 111.271736\n",
      "Train Epoch: 6 [11520/60000 (19%)]\tLoss: 108.949448\n",
      "Train Epoch: 6 [12800/60000 (21%)]\tLoss: 106.638344\n",
      "Train Epoch: 6 [14080/60000 (23%)]\tLoss: 113.686966\n",
      "Train Epoch: 6 [15360/60000 (26%)]\tLoss: 105.156342\n",
      "Train Epoch: 6 [16640/60000 (28%)]\tLoss: 111.776360\n",
      "Train Epoch: 6 [17920/60000 (30%)]\tLoss: 110.850121\n",
      "Train Epoch: 6 [19200/60000 (32%)]\tLoss: 109.335625\n",
      "Train Epoch: 6 [20480/60000 (34%)]\tLoss: 108.057861\n",
      "Train Epoch: 6 [21760/60000 (36%)]\tLoss: 109.381905\n",
      "Train Epoch: 6 [23040/60000 (38%)]\tLoss: 110.732544\n",
      "Train Epoch: 6 [24320/60000 (41%)]\tLoss: 109.711472\n",
      "Train Epoch: 6 [25600/60000 (43%)]\tLoss: 108.162476\n",
      "Train Epoch: 6 [26880/60000 (45%)]\tLoss: 104.834122\n",
      "Train Epoch: 6 [28160/60000 (47%)]\tLoss: 108.348869\n",
      "Train Epoch: 6 [29440/60000 (49%)]\tLoss: 105.496819\n",
      "Train Epoch: 6 [30720/60000 (51%)]\tLoss: 111.441025\n",
      "Train Epoch: 6 [32000/60000 (53%)]\tLoss: 104.859467\n",
      "Train Epoch: 6 [33280/60000 (55%)]\tLoss: 108.636429\n",
      "Train Epoch: 6 [34560/60000 (58%)]\tLoss: 111.124359\n",
      "Train Epoch: 6 [35840/60000 (60%)]\tLoss: 106.693352\n",
      "Train Epoch: 6 [37120/60000 (62%)]\tLoss: 109.697281\n",
      "Train Epoch: 6 [38400/60000 (64%)]\tLoss: 107.597961\n",
      "Train Epoch: 6 [39680/60000 (66%)]\tLoss: 104.770401\n",
      "Train Epoch: 6 [40960/60000 (68%)]\tLoss: 109.415764\n",
      "Train Epoch: 6 [42240/60000 (70%)]\tLoss: 107.780846\n",
      "Train Epoch: 6 [43520/60000 (72%)]\tLoss: 106.667442\n",
      "Train Epoch: 6 [44800/60000 (75%)]\tLoss: 111.479347\n",
      "Train Epoch: 6 [46080/60000 (77%)]\tLoss: 103.173615\n",
      "Train Epoch: 6 [47360/60000 (79%)]\tLoss: 106.479256\n",
      "Train Epoch: 6 [48640/60000 (81%)]\tLoss: 108.134995\n",
      "Train Epoch: 6 [49920/60000 (83%)]\tLoss: 106.888885\n",
      "Train Epoch: 6 [51200/60000 (85%)]\tLoss: 107.642944\n",
      "Train Epoch: 6 [52480/60000 (87%)]\tLoss: 108.485054\n",
      "Train Epoch: 6 [53760/60000 (90%)]\tLoss: 102.809845\n",
      "Train Epoch: 6 [55040/60000 (92%)]\tLoss: 108.560776\n",
      "Train Epoch: 6 [56320/60000 (94%)]\tLoss: 109.021576\n",
      "Train Epoch: 6 [57600/60000 (96%)]\tLoss: 112.878906\n",
      "Train Epoch: 6 [58880/60000 (98%)]\tLoss: 108.373764\n",
      "====> Epoch: 6 Average loss: 108.5484\n",
      "====> Test set loss: 107.3431\n",
      "Train Epoch: 7 [0/60000 (0%)]\tLoss: 108.115082\n",
      "Train Epoch: 7 [1280/60000 (2%)]\tLoss: 109.145676\n",
      "Train Epoch: 7 [2560/60000 (4%)]\tLoss: 107.465958\n",
      "Train Epoch: 7 [3840/60000 (6%)]\tLoss: 109.015228\n",
      "Train Epoch: 7 [5120/60000 (9%)]\tLoss: 107.590248\n",
      "Train Epoch: 7 [6400/60000 (11%)]\tLoss: 108.954834\n",
      "Train Epoch: 7 [7680/60000 (13%)]\tLoss: 109.174400\n",
      "Train Epoch: 7 [8960/60000 (15%)]\tLoss: 102.631935\n",
      "Train Epoch: 7 [10240/60000 (17%)]\tLoss: 107.866821\n",
      "Train Epoch: 7 [11520/60000 (19%)]\tLoss: 109.493500\n",
      "Train Epoch: 7 [12800/60000 (21%)]\tLoss: 104.674149\n",
      "Train Epoch: 7 [14080/60000 (23%)]\tLoss: 108.831528\n",
      "Train Epoch: 7 [15360/60000 (26%)]\tLoss: 104.159973\n",
      "Train Epoch: 7 [16640/60000 (28%)]\tLoss: 106.838104\n",
      "Train Epoch: 7 [17920/60000 (30%)]\tLoss: 107.023399\n",
      "Train Epoch: 7 [19200/60000 (32%)]\tLoss: 104.524567\n",
      "Train Epoch: 7 [20480/60000 (34%)]\tLoss: 104.836525\n",
      "Train Epoch: 7 [21760/60000 (36%)]\tLoss: 109.801254\n",
      "Train Epoch: 7 [23040/60000 (38%)]\tLoss: 109.171799\n",
      "Train Epoch: 7 [24320/60000 (41%)]\tLoss: 106.634048\n",
      "Train Epoch: 7 [25600/60000 (43%)]\tLoss: 108.324341\n",
      "Train Epoch: 7 [26880/60000 (45%)]\tLoss: 108.384560\n",
      "Train Epoch: 7 [28160/60000 (47%)]\tLoss: 111.276222\n",
      "Train Epoch: 7 [29440/60000 (49%)]\tLoss: 111.967995\n",
      "Train Epoch: 7 [30720/60000 (51%)]\tLoss: 102.527031\n",
      "Train Epoch: 7 [32000/60000 (53%)]\tLoss: 105.052475\n",
      "Train Epoch: 7 [33280/60000 (55%)]\tLoss: 106.157318\n",
      "Train Epoch: 7 [34560/60000 (58%)]\tLoss: 108.033531\n",
      "Train Epoch: 7 [35840/60000 (60%)]\tLoss: 110.111763\n",
      "Train Epoch: 7 [37120/60000 (62%)]\tLoss: 106.192932\n",
      "Train Epoch: 7 [38400/60000 (64%)]\tLoss: 108.618652\n",
      "Train Epoch: 7 [39680/60000 (66%)]\tLoss: 106.823578\n",
      "Train Epoch: 7 [40960/60000 (68%)]\tLoss: 105.517220\n",
      "Train Epoch: 7 [42240/60000 (70%)]\tLoss: 108.897141\n",
      "Train Epoch: 7 [43520/60000 (72%)]\tLoss: 107.661545\n",
      "Train Epoch: 7 [44800/60000 (75%)]\tLoss: 110.947922\n",
      "Train Epoch: 7 [46080/60000 (77%)]\tLoss: 107.206192\n",
      "Train Epoch: 7 [47360/60000 (79%)]\tLoss: 108.167450\n",
      "Train Epoch: 7 [48640/60000 (81%)]\tLoss: 107.913597\n",
      "Train Epoch: 7 [49920/60000 (83%)]\tLoss: 109.134621\n",
      "Train Epoch: 7 [51200/60000 (85%)]\tLoss: 109.836945\n",
      "Train Epoch: 7 [52480/60000 (87%)]\tLoss: 107.283005\n",
      "Train Epoch: 7 [53760/60000 (90%)]\tLoss: 105.503799\n",
      "Train Epoch: 7 [55040/60000 (92%)]\tLoss: 108.322746\n",
      "Train Epoch: 7 [56320/60000 (94%)]\tLoss: 109.833153\n",
      "Train Epoch: 7 [57600/60000 (96%)]\tLoss: 101.845757\n",
      "Train Epoch: 7 [58880/60000 (98%)]\tLoss: 104.239166\n",
      "====> Epoch: 7 Average loss: 107.6947\n",
      "====> Test set loss: 106.7860\n",
      "Train Epoch: 8 [0/60000 (0%)]\tLoss: 105.993454\n",
      "Train Epoch: 8 [1280/60000 (2%)]\tLoss: 106.482254\n",
      "Train Epoch: 8 [2560/60000 (4%)]\tLoss: 104.721931\n",
      "Train Epoch: 8 [3840/60000 (6%)]\tLoss: 103.486046\n",
      "Train Epoch: 8 [5120/60000 (9%)]\tLoss: 103.258614\n",
      "Train Epoch: 8 [6400/60000 (11%)]\tLoss: 109.474426\n",
      "Train Epoch: 8 [7680/60000 (13%)]\tLoss: 106.652878\n",
      "Train Epoch: 8 [8960/60000 (15%)]\tLoss: 104.647041\n",
      "Train Epoch: 8 [10240/60000 (17%)]\tLoss: 109.504974\n",
      "Train Epoch: 8 [11520/60000 (19%)]\tLoss: 106.101479\n",
      "Train Epoch: 8 [12800/60000 (21%)]\tLoss: 108.611481\n",
      "Train Epoch: 8 [14080/60000 (23%)]\tLoss: 103.320038\n",
      "Train Epoch: 8 [15360/60000 (26%)]\tLoss: 110.706955\n",
      "Train Epoch: 8 [16640/60000 (28%)]\tLoss: 110.568359\n",
      "Train Epoch: 8 [17920/60000 (30%)]\tLoss: 102.253708\n",
      "Train Epoch: 8 [19200/60000 (32%)]\tLoss: 107.956505\n",
      "Train Epoch: 8 [20480/60000 (34%)]\tLoss: 100.032623\n",
      "Train Epoch: 8 [21760/60000 (36%)]\tLoss: 107.028885\n",
      "Train Epoch: 8 [23040/60000 (38%)]\tLoss: 110.031487\n",
      "Train Epoch: 8 [24320/60000 (41%)]\tLoss: 108.483749\n",
      "Train Epoch: 8 [25600/60000 (43%)]\tLoss: 104.010208\n",
      "Train Epoch: 8 [26880/60000 (45%)]\tLoss: 109.660843\n",
      "Train Epoch: 8 [28160/60000 (47%)]\tLoss: 109.877090\n",
      "Train Epoch: 8 [29440/60000 (49%)]\tLoss: 110.470001\n",
      "Train Epoch: 8 [30720/60000 (51%)]\tLoss: 105.574669\n",
      "Train Epoch: 8 [32000/60000 (53%)]\tLoss: 110.672394\n",
      "Train Epoch: 8 [33280/60000 (55%)]\tLoss: 106.926361\n",
      "Train Epoch: 8 [34560/60000 (58%)]\tLoss: 109.081535\n",
      "Train Epoch: 8 [35840/60000 (60%)]\tLoss: 107.863922\n",
      "Train Epoch: 8 [37120/60000 (62%)]\tLoss: 104.871292\n",
      "Train Epoch: 8 [38400/60000 (64%)]\tLoss: 106.573280\n",
      "Train Epoch: 8 [39680/60000 (66%)]\tLoss: 109.174339\n",
      "Train Epoch: 8 [40960/60000 (68%)]\tLoss: 105.720230\n",
      "Train Epoch: 8 [42240/60000 (70%)]\tLoss: 108.013596\n",
      "Train Epoch: 8 [43520/60000 (72%)]\tLoss: 107.756058\n",
      "Train Epoch: 8 [44800/60000 (75%)]\tLoss: 104.752014\n",
      "Train Epoch: 8 [46080/60000 (77%)]\tLoss: 105.799866\n",
      "Train Epoch: 8 [47360/60000 (79%)]\tLoss: 107.535027\n",
      "Train Epoch: 8 [48640/60000 (81%)]\tLoss: 103.296608\n",
      "Train Epoch: 8 [49920/60000 (83%)]\tLoss: 109.784622\n",
      "Train Epoch: 8 [51200/60000 (85%)]\tLoss: 107.876450\n",
      "Train Epoch: 8 [52480/60000 (87%)]\tLoss: 112.150925\n",
      "Train Epoch: 8 [53760/60000 (90%)]\tLoss: 107.237457\n",
      "Train Epoch: 8 [55040/60000 (92%)]\tLoss: 108.191856\n",
      "Train Epoch: 8 [56320/60000 (94%)]\tLoss: 106.435379\n",
      "Train Epoch: 8 [57600/60000 (96%)]\tLoss: 108.785271\n",
      "Train Epoch: 8 [58880/60000 (98%)]\tLoss: 104.415237\n",
      "====> Epoch: 8 Average loss: 107.0709\n",
      "====> Test set loss: 106.3582\n"
     ]
    }
   ],
   "source": [
    "import argparse\n",
    "import torch\n",
    "import torch.utils.data\n",
    "from torch import nn, optim\n",
    "from torch.nn import functional as F\n",
    "from torchvision import datasets, transforms\n",
    "from torchvision.utils import save_image\n",
    "\n",
    "\n",
    "parser = argparse.ArgumentParser(description='VAE MNIST Example')\n",
    "parser.add_argument('--batch-size', type=int, default=128, metavar='N',\n",
    "                    help='input batch size for training (default: 128)')\n",
    "parser.add_argument('--epochs', type=int, default=8, metavar='N',\n",
    "                    help='number of epochs to train (default: 10)')\n",
    "parser.add_argument('--no-cuda', action='store_true', default=False,\n",
    "                    help='disables CUDA training')\n",
    "parser.add_argument('--seed', type=int, default=1, metavar='S',\n",
    "                    help='random seed (default: 1)')\n",
    "parser.add_argument('--log-interval', type=int, default=10, metavar='N',\n",
    "                    help='how many batches to wait before logging training status')\n",
    "args = parser.parse_args(\"\".split())\n",
    "\n",
    "args.cuda = not args.no_cuda and torch.cuda.is_available()\n",
    "\n",
    "torch.manual_seed(args.seed)\n",
    "\n",
    "device = torch.device(\"cuda\" if args.cuda else \"cpu\")\n",
    "\n",
    "kwargs = {'num_workers': 1, 'pin_memory': True} if args.cuda else {}\n",
    "train_loader = torch.utils.data.DataLoader(\n",
    "    datasets.MNIST('../data', train=True, download=True,\n",
    "                   transform=transforms.ToTensor()),\n",
    "    batch_size=args.batch_size, shuffle=True, **kwargs)\n",
    "test_loader = torch.utils.data.DataLoader(\n",
    "    datasets.MNIST('../data', train=False, transform=transforms.ToTensor()),\n",
    "    batch_size=args.batch_size, shuffle=True, **kwargs)\n",
    "\n",
    "\n",
    "class VAE(nn.Module):\n",
    "    def __init__(self):\n",
    "        super(VAE, self).__init__()\n",
    "\n",
    "        self.fc1 = nn.Linear(784, 400)\n",
    "        self.fc21 = nn.Linear(400, 20)\n",
    "        self.fc22 = nn.Linear(400, 20)\n",
    "        self.fc3 = nn.Linear(20, 400)\n",
    "        self.fc4 = nn.Linear(400, 784)\n",
    "\n",
    "    def encode(self, x):\n",
    "        h1 = F.relu(self.fc1(x))\n",
    "        return self.fc21(h1), self.fc22(h1)\n",
    "\n",
    "    def reparameterize(self, mu, logvar):\n",
    "        std = torch.exp(0.5*logvar)\n",
    "        eps = torch.randn_like(std)\n",
    "        return mu + eps*std\n",
    "\n",
    "    def decode(self, z):\n",
    "        h3 = F.relu(self.fc3(z))\n",
    "        return torch.sigmoid(self.fc4(h3))\n",
    "\n",
    "    def forward(self, x):\n",
    "        mu, logvar = self.encode(x.view(-1, 784))\n",
    "        z = self.reparameterize(mu, logvar)\n",
    "        return self.decode(z), mu, logvar\n",
    "\n",
    "\n",
    "model = VAE().to(device)\n",
    "optimizer = optim.Adam(model.parameters(), lr=1e-3)\n",
    "\n",
    "\n",
    "# Reconstruction + KL divergence losses summed over all elements and batch\n",
    "def loss_function(recon_x, x, mu, logvar):\n",
    "    BCE = F.binary_cross_entropy(recon_x, x.view(-1, 784), reduction='sum')\n",
    "    KLD = -0.5 * torch.sum(1 + logvar - mu.pow(2) - logvar.exp())\n",
    "    return BCE + KLD\n",
    "\n",
    "\n",
    "def train(epoch):\n",
    "    model.train()\n",
    "    train_loss = 0\n",
    "    for batch_idx, (data, _) in enumerate(train_loader):\n",
    "        data = data.to(device)\n",
    "        optimizer.zero_grad()\n",
    "        recon_batch, mu, logvar = model(data)\n",
    "        loss = loss_function(recon_batch, data, mu, logvar)\n",
    "        loss.backward()\n",
    "        train_loss += loss.item()\n",
    "        optimizer.step()\n",
    "        if batch_idx % args.log_interval == 0:\n",
    "            print('Train Epoch: {} [{}/{} ({:.0f}%)]\\tLoss: {:.6f}'.format(\n",
    "                epoch, batch_idx * len(data), len(train_loader.dataset),\n",
    "                100. * batch_idx / len(train_loader),\n",
    "                loss.item() / len(data)))\n",
    "\n",
    "    print('====> Epoch: {} Average loss: {:.4f}'.format(\n",
    "          epoch, train_loss / len(train_loader.dataset)))\n",
    "\n",
    "\n",
    "def test(epoch):\n",
    "    model.eval()\n",
    "    test_loss = 0\n",
    "    with torch.no_grad():\n",
    "        for i, (data, _) in enumerate(test_loader):\n",
    "            data = data.to(device)\n",
    "            recon_batch, mu, logvar = model(data)\n",
    "            test_loss += loss_function(recon_batch, data, mu, logvar).item()\n",
    "            if i == 0:\n",
    "                n = min(data.size(0), 8)\n",
    "                comparison = torch.cat([data[:n],\n",
    "                                      recon_batch.view(args.batch_size, 1, 28, 28)[:n]])\n",
    "                save_image(comparison.cpu(),\n",
    "                         'reconstruction_' + str(epoch) + '.png', nrow=n)\n",
    "\n",
    "    test_loss /= len(test_loader.dataset)\n",
    "    print('====> Test set loss: {:.4f}'.format(test_loss))\n",
    "\n",
    "\n",
    "for epoch in range(1, args.epochs + 1):\n",
    "    train(epoch)\n",
    "    test(epoch)\n",
    "    with torch.no_grad():\n",
    "        sample = torch.randn(64, 20).to(device)\n",
    "        sample = model.decode(sample).cpu()\n",
    "        save_image(sample.view(64, 1, 28, 28),\n",
    "                    'sample_' + str(epoch) + '.png')"
   ]
  },
  {
   "cell_type": "code",
   "execution_count": 2,
   "metadata": {
    "id": "GZ5zGVFoqsiN"
   },
   "outputs": [],
   "source": [
    "N = 5\n",
    "data, _ = iter(test_loader).next()\n",
    "data = data[:N].to(device)"
   ]
  },
  {
   "cell_type": "code",
   "execution_count": 3,
   "metadata": {
    "id": "pL4qqjM-shBJ"
   },
   "outputs": [
    {
     "data": {
      "image/png": "[encoded data removed]",
      "text/plain": [
       "<Figure size 1296x1296 with 5 Axes>"
      ]
     },
     "metadata": {
      "needs_background": "light"
     },
     "output_type": "display_data"
    }
   ],
   "source": [
    "import matplotlib.pyplot as plt\n",
    "\n",
    "data_np = data.detach().cpu().numpy()\n",
    "\n",
    "plt.figure(figsize=(18,18))\n",
    "for i in range(N):\n",
    "  plt.subplot(1,N,i+1); plt.imshow(data_np[i].squeeze(), \"gray\")\n",
    "plt.show()"
   ]
  },
  {
   "cell_type": "code",
   "execution_count": 4,
   "metadata": {
    "id": "jOBXXWGZsvAo"
   },
   "outputs": [
    {
     "data": {
      "image/png": "[encoded data removed]",
      "text/plain": [
       "<Figure size 1296x1296 with 5 Axes>"
      ]
     },
     "metadata": {
      "needs_background": "light"
     },
     "output_type": "display_data"
    }
   ],
   "source": [
    "recon_batch, mu, logvar = model(data)\n",
    "recon_batch = recon_batch.view(N, 28, 28).detach().cpu().numpy()\n",
    "\n",
    "plt.figure(figsize=(18,18))\n",
    "for i in range(N):\n",
    "  plt.subplot(1,N,i+1); plt.imshow(recon_batch[i], \"gray\")\n",
    "plt.show()"
   ]
  },
  {
   "cell_type": "code",
   "execution_count": 5,
   "metadata": {
    "id": "OPFQH8uns7Aj"
   },
   "outputs": [
    {
     "data": {
      "image/png": "[encoded data removed]",
      "text/plain": [
       "<Figure size 1296x1296 with 5 Axes>"
      ]
     },
     "metadata": {
      "needs_background": "light"
     },
     "output_type": "display_data"
    }
   ],
   "source": [
    "N = 5\n",
    "\n",
    "sample = torch.randn(N, 20).to(device)\n",
    "sample = model.decode(sample)\n",
    "\n",
    "sample = sample.view(N, 28, 28).detach().cpu().numpy()\n",
    "\n",
    "\n",
    "plt.figure(figsize=(18,18))\n",
    "for i in range(N):\n",
    "  plt.subplot(1,N,i+1); plt.imshow(sample[i], \"gray\")\n",
    "plt.show()"
   ]
  },
  {
   "cell_type": "code",
   "execution_count": 6,
   "metadata": {
    "id": "Ox0UPfz5uYI-"
   },
   "outputs": [
    {
     "data": {
      "image/png": "[encoded data removed]",
      "text/plain": [
       "<Figure size 1296x1296 with 10 Axes>"
      ]
     },
     "metadata": {
      "needs_background": "light"
     },
     "output_type": "display_data"
    }
   ],
   "source": [
    "a = torch.randn(20).to(device)\n",
    "b = torch.randn(20).to(device)\n",
    "\n",
    "N = 10\n",
    "sample = torch.stack([r*a/float(N) + (1.-r)*b/float(N) for r in range(N)])\n",
    "sample = model.decode(sample)\n",
    "sample = sample.view(N, 28, 28).detach().cpu().numpy()\n",
    "\n",
    "plt.figure(figsize=(18,18))\n",
    "for i in range(N):\n",
    "  plt.subplot(1,N,i+1); plt.imshow(sample[i], \"gray\")\n",
    "plt.show()"
   ]
  },
  {
   "cell_type": "code",
   "execution_count": null,
   "metadata": {
    "id": "yV56G_z8u5w2"
   },
   "outputs": [],
   "source": []
  },
  {
   "cell_type": "code",
   "execution_count": null,
   "metadata": {
    "id": "frSnNJMNxmwU"
   },
   "outputs": [],
   "source": []
  },
  {
   "cell_type": "code",
   "execution_count": null,
   "metadata": {
    "id": "BWFDwWrkxmyh"
   },
   "outputs": [],
   "source": []
  },
  {
   "cell_type": "code",
   "execution_count": null,
   "metadata": {
    "id": "g6zWSjNuxm0r"
   },
   "outputs": [],
   "source": []
  },
  {
   "cell_type": "code",
   "execution_count": null,
   "metadata": {
    "id": "Rffnhv6Dxm2r"
   },
   "outputs": [],
   "source": []
  },
  {
   "cell_type": "code",
   "execution_count": null,
   "metadata": {
    "id": "OVlO0GNSxm41"
   },
   "outputs": [],
   "source": []
  },
  {
   "cell_type": "markdown",
   "metadata": {
    "id": "rvb5rj9rxzdv"
   },
   "source": [
    "# GAN (Generative Adversarial Networks)\n",
    "\n",
    "\n",
    "- GANは深層生成モデルの一種で、与えられたデータと遜色ない本物のような画像を作ることができます。\n",
    "  - GANの全体は生成器(G:Generator)と識別器(D:Disctiminator)の二つからなっており、生成器は識別器をだませるように、識別器は本物のデータと生成されたデータを見分けられるように、いたちごっこのような学習を行います。\n",
    "\n",
    "<img src=\"https://www.bigdata-navi.com/aidrops/wp-content/uploads/2020/03/1.svg\" width=\"640\">\n",
    "\n",
    "出典: https://www.bigdata-navi.com/aidrops/2519/\n",
    "\n",
    "\n",
    "- 目的関数\n",
    "\n",
    "  - 1つの式に表すと以下のようになります(ミニマックス問題)\n",
    "<img src=\"https://qiita-user-contents.imgix.net/https%3A%2F%2Fqiita-image-store.s3.amazonaws.com%2F0%2F233208%2F78f624e8-cc53-c7a3-178c-0551048bef30.jpeg?ixlib=rb-4.0.0&auto=format&gif-q=60&q=75&w=1400&fit=max&s=e003da075ce59572516d53df27ea3ef8\" width=\"640\">\n",
    "\n",
    "  - 識別器の目的関数 (D=1: 本物と判断, D=0: 偽物と判断)\n",
    "<img src=\"https://www.bigdata-navi.com/aidrops/wp-content/uploads/2020/03/img_18.png\" width=\"640\">\n",
    "\n",
    "    - 識別器は本物は本物、偽物は偽物と識別できるようにする\n",
    "\n",
    "  - 生成器の目的関数\n",
    "<img src=\"https://www.bigdata-navi.com/aidrops/wp-content/uploads/2020/03/img_19.png\" width=\"400\">\n",
    "\n",
    "    - 生成器は、本物だと識別されるようにする\n",
    "\n",
    "- ref: http://aidiary.hatenablog.com/entry/20180304/1520172429"
   ]
  },
  {
   "cell_type": "markdown",
   "metadata": {},
   "source": [
    "- 時間がかかるのでepoch数を減らして実行してみます"
   ]
  },
  {
   "cell_type": "code",
   "execution_count": 7,
   "metadata": {
    "id": "c60kcsXtxm6m"
   },
   "outputs": [
    {
     "name": "stdout",
     "output_type": "stream",
     "text": [
      "cuda\n",
      "torch.Size([32, 1, 28, 28])\n",
      "torch.Size([32, 1])\n"
     ]
    },
    {
     "name": "stderr",
     "output_type": "stream",
     "text": [
      "100%|██████████| 468/468 [00:13<00:00, 35.50it/s]\n",
      "  0%|          | 0/468 [00:00<?, ?it/s]"
     ]
    },
    {
     "name": "stdout",
     "output_type": "stream",
     "text": [
      "epoch 1, D_loss: 0.8255 G_loss: 1.3022\n"
     ]
    },
    {
     "name": "stderr",
     "output_type": "stream",
     "text": [
      "100%|██████████| 468/468 [00:13<00:00, 34.07it/s]\n",
      "  1%|          | 4/468 [00:00<00:14, 32.97it/s]"
     ]
    },
    {
     "name": "stdout",
     "output_type": "stream",
     "text": [
      "epoch 2, D_loss: 1.0237 G_loss: 1.1171\n"
     ]
    },
    {
     "name": "stderr",
     "output_type": "stream",
     "text": [
      "100%|██████████| 468/468 [00:13<00:00, 33.71it/s]\n",
      "  1%|          | 4/468 [00:00<00:13, 33.16it/s]"
     ]
    },
    {
     "name": "stdout",
     "output_type": "stream",
     "text": [
      "epoch 3, D_loss: 1.0485 G_loss: 1.0855\n"
     ]
    },
    {
     "name": "stderr",
     "output_type": "stream",
     "text": [
      "100%|██████████| 468/468 [00:13<00:00, 33.63it/s]\n",
      "  1%|          | 4/468 [00:00<00:13, 33.36it/s]"
     ]
    },
    {
     "name": "stdout",
     "output_type": "stream",
     "text": [
      "epoch 4, D_loss: 1.0479 G_loss: 1.0947\n"
     ]
    },
    {
     "name": "stderr",
     "output_type": "stream",
     "text": [
      "100%|██████████| 468/468 [00:13<00:00, 33.62it/s]\n",
      "  1%|          | 4/468 [00:00<00:14, 32.89it/s]"
     ]
    },
    {
     "name": "stdout",
     "output_type": "stream",
     "text": [
      "epoch 5, D_loss: 1.0379 G_loss: 1.1054\n"
     ]
    },
    {
     "name": "stderr",
     "output_type": "stream",
     "text": [
      "100%|██████████| 468/468 [00:13<00:00, 33.71it/s]\n",
      "  1%|          | 4/468 [00:00<00:13, 34.56it/s]"
     ]
    },
    {
     "name": "stdout",
     "output_type": "stream",
     "text": [
      "epoch 6, D_loss: 1.0215 G_loss: 1.1376\n"
     ]
    },
    {
     "name": "stderr",
     "output_type": "stream",
     "text": [
      "100%|██████████| 468/468 [00:14<00:00, 33.10it/s]\n",
      "  1%|          | 4/468 [00:00<00:13, 33.88it/s]"
     ]
    },
    {
     "name": "stdout",
     "output_type": "stream",
     "text": [
      "epoch 7, D_loss: 0.9936 G_loss: 1.1692\n"
     ]
    },
    {
     "name": "stderr",
     "output_type": "stream",
     "text": [
      "100%|██████████| 468/468 [00:13<00:00, 33.69it/s]\n",
      "  1%|          | 4/468 [00:00<00:13, 33.27it/s]"
     ]
    },
    {
     "name": "stdout",
     "output_type": "stream",
     "text": [
      "epoch 8, D_loss: 0.9674 G_loss: 1.2082\n"
     ]
    },
    {
     "name": "stderr",
     "output_type": "stream",
     "text": [
      "100%|██████████| 468/468 [00:13<00:00, 33.70it/s]\n",
      "  1%|          | 4/468 [00:00<00:14, 33.02it/s]"
     ]
    },
    {
     "name": "stdout",
     "output_type": "stream",
     "text": [
      "epoch 9, D_loss: 0.9452 G_loss: 1.2532\n"
     ]
    },
    {
     "name": "stderr",
     "output_type": "stream",
     "text": [
      "100%|██████████| 468/468 [00:13<00:00, 33.63it/s]\n"
     ]
    },
    {
     "name": "stdout",
     "output_type": "stream",
     "text": [
      "epoch 10, D_loss: 0.9130 G_loss: 1.2955\n"
     ]
    }
   ],
   "source": [
    "import os\n",
    "import pickle\n",
    "import numpy as np\n",
    "from tqdm import tqdm\n",
    "import torch\n",
    "import torch.nn as nn\n",
    "import torch.optim as optim\n",
    "from torch.utils.data import DataLoader\n",
    "from torchvision import datasets, transforms\n",
    "from torchvision.utils import save_image, make_grid\n",
    "\n",
    "import matplotlib.pyplot as plt\n",
    "\n",
    "device = torch.device(\"cuda\" if torch.cuda.is_available() else \"cpu\")\n",
    "print(device)\n",
    "\n",
    "\n",
    "def initialize_weights(model):\n",
    "    for m in model.modules():\n",
    "        if isinstance(m, nn.Conv2d):\n",
    "            m.weight.data.normal_(0, 0.02)\n",
    "            m.bias.data.zero_()\n",
    "        elif isinstance(m, nn.ConvTranspose2d):\n",
    "            m.weight.data.normal_(0, 0.02)\n",
    "            m.bias.data.zero_()\n",
    "        elif isinstance(m, nn.Linear):\n",
    "            m.weight.data.normal_(0, 0.02)\n",
    "            m.bias.data.zero_()\n",
    "\n",
    "\n",
    "class Generator(nn.Module):\n",
    "    def __init__(self):\n",
    "        super(Generator, self).__init__()\n",
    "        \n",
    "        self.fc = nn.Sequential(\n",
    "            nn.Linear(62, 1024),\n",
    "            nn.BatchNorm1d(1024),\n",
    "            nn.ReLU(),\n",
    "            nn.Linear(1024, 128 * 7 * 7),\n",
    "            nn.BatchNorm1d(128 * 7 * 7),\n",
    "            nn.ReLU(),\n",
    "        )\n",
    "        \n",
    "        self.deconv = nn.Sequential(\n",
    "            nn.ConvTranspose2d(128, 64, kernel_size=4, stride=2, padding=1),\n",
    "            nn.BatchNorm2d(64),\n",
    "            nn.ReLU(),\n",
    "            nn.ConvTranspose2d(64, 1, kernel_size=4, stride=2, padding=1),\n",
    "            nn.Sigmoid(),\n",
    "        )\n",
    "        \n",
    "        initialize_weights(self)\n",
    "\n",
    "    def forward(self, input):\n",
    "        x = self.fc(input)\n",
    "        x = x.view(-1, 128, 7, 7)\n",
    "        x = self.deconv(x)\n",
    "        return x\n",
    "\n",
    "\n",
    "class Discriminator(nn.Module):\n",
    "    def __init__(self):\n",
    "        super(Discriminator, self).__init__()\n",
    "        \n",
    "        self.conv = nn.Sequential(\n",
    "            nn.Conv2d(1, 64, kernel_size=4, stride=2, padding=1),\n",
    "            nn.LeakyReLU(0.2),\n",
    "            nn.Conv2d(64, 128, kernel_size=4, stride=2, padding=1),\n",
    "            nn.BatchNorm2d(128),\n",
    "            nn.LeakyReLU(0.2),\n",
    "        )\n",
    "        \n",
    "        self.fc = nn.Sequential(\n",
    "            nn.Linear(128 * 7 * 7, 1024),\n",
    "            nn.BatchNorm1d(1024),\n",
    "            nn.LeakyReLU(0.2),\n",
    "            nn.Linear(1024, 1),\n",
    "            nn.Sigmoid(),\n",
    "        )\n",
    "        \n",
    "        initialize_weights(self)\n",
    "    \n",
    "    def forward(self, input):\n",
    "        x = self.conv(input)\n",
    "        x = x.view(-1, 128 * 7 * 7)\n",
    "        x = self.fc(x)\n",
    "        return x\n",
    "\n",
    "# Generatorのサイズテスト\n",
    "G = Generator()\n",
    "input = torch.rand((32, 62))\n",
    "out = G(input)\n",
    "print(out.size())\n",
    "torch.Size([32, 1, 28, 28])\n",
    "\n",
    "# Discriminatorのサイズテスト\n",
    "D = Discriminator()\n",
    "input = torch.rand((32, 1, 28, 28))\n",
    "out = D(input)\n",
    "print(out.size())\n",
    "torch.Size([32, 1])\n",
    "\n",
    "# hyperparameters\n",
    "batch_size = 128\n",
    "lr = 0.0002\n",
    "z_dim = 62\n",
    "num_epochs = 10  # 25\n",
    "sample_num = 16\n",
    "log_dir = './'\n",
    "\n",
    "# initialize network\n",
    "G = Generator().to(device)\n",
    "D = Discriminator().to(device)\n",
    "\n",
    "# optimizer\n",
    "G_optimizer = optim.Adam(G.parameters(), lr=lr, betas=(0.5, 0.999))\n",
    "D_optimizer = optim.Adam(D.parameters(), lr=lr, betas=(0.5, 0.999))\n",
    "\n",
    "# loss\n",
    "criterion = nn.BCELoss()\n",
    "\n",
    "# load dataset\n",
    "transform = transforms.Compose([\n",
    "    transforms.ToTensor()\n",
    "])\n",
    "\n",
    "dataset = datasets.MNIST('../data', train=True, download=True, transform=transform)\n",
    "data_loader = DataLoader(dataset, batch_size=batch_size, shuffle=True, drop_last=True)\n",
    "\n",
    "def train(D, G, criterion, D_optimizer, G_optimizer, data_loader):\n",
    "    # 訓練モードへ\n",
    "    D.train()\n",
    "    G.train()\n",
    "\n",
    "    # 本物のラベルは1\n",
    "    y_real = torch.ones(batch_size, 1)\n",
    "    # 偽物のラベルは0\n",
    "    y_fake = torch.zeros(batch_size, 1)\n",
    "    \n",
    "    y_real = y_real.to(device)\n",
    "    y_fake = y_fake.to(device)\n",
    "\n",
    "    D_running_loss = 0\n",
    "    G_running_loss = 0\n",
    "    for batch_idx, (real_images, _) in enumerate(tqdm(data_loader)):\n",
    "        z = torch.rand((batch_size, z_dim))\n",
    "        real_images, z = real_images.to(device), z.to(device)\n",
    "\n",
    "        # Discriminatorの更新\n",
    "        D_optimizer.zero_grad()\n",
    "\n",
    "        # Discriminatorにとって本物画像の認識結果は1（本物）に近いほどよい\n",
    "        # E[log(D(x))]\n",
    "        D_real = D(real_images)\n",
    "        D_real_loss = criterion(D_real, y_real)\n",
    "\n",
    "        # DiscriminatorにとってGeneratorが生成した偽物画像の認識結果は0（偽物）に近いほどよい\n",
    "        # E[log(1 - D(G(z)))]\n",
    "        # fake_imagesを通じて勾配がGに伝わらないようにdetach()して止める\n",
    "        fake_images = G(z)\n",
    "        D_fake = D(fake_images.detach())\n",
    "        D_fake_loss = criterion(D_fake, y_fake)\n",
    "\n",
    "        # 2つのlossの和を最小化する\n",
    "        D_loss = D_real_loss + D_fake_loss\n",
    "        D_loss.backward()\n",
    "        D_optimizer.step()\n",
    "        D_running_loss += D_loss.item()\n",
    "\n",
    "        # Generatorの更新\n",
    "        z = torch.rand((batch_size, z_dim))\n",
    "        z = z.to(device)\n",
    "\n",
    "        G_optimizer.zero_grad()\n",
    "\n",
    "        # GeneratorにとってGeneratorが生成した画像の認識結果は1（本物）に近いほどよい\n",
    "        # E[log(D(G(z)))\n",
    "        fake_images = G(z)\n",
    "        D_fake = D(fake_images)\n",
    "        G_loss = criterion(D_fake, y_real)\n",
    "        G_loss.backward()\n",
    "        G_optimizer.step()\n",
    "        G_running_loss += G_loss.item()\n",
    "    \n",
    "    D_running_loss /= len(data_loader)\n",
    "    G_running_loss /= len(data_loader)\n",
    "    \n",
    "    return D_running_loss, G_running_loss\n",
    "\n",
    "def generate(epoch, G, log_dir='logs'):\n",
    "    G.eval()\n",
    "    \n",
    "    os.makedirs(log_dir, exist_ok=True)\n",
    "\n",
    "    # 生成のもとになる乱数を生成\n",
    "    sample_z = torch.rand((64, z_dim))\n",
    "    sample_z = sample_z.to(device)\n",
    "    \n",
    "    # Generatorでサンプル生成\n",
    "    with torch.no_grad():\n",
    "        samples = G(sample_z).to('cpu')\n",
    "    save_image(samples, os.path.join(log_dir, 'epoch_%03d.png' % (epoch)))\n",
    "\n",
    "history = {}\n",
    "history['D_loss'] = []\n",
    "history['G_loss'] = []\n",
    "for epoch in range(num_epochs):\n",
    "    D_loss, G_loss = train(D, G, criterion, D_optimizer, G_optimizer, data_loader)\n",
    "    \n",
    "    print('epoch %d, D_loss: %.4f G_loss: %.4f' % (epoch + 1, D_loss, G_loss))\n",
    "    history['D_loss'].append(D_loss)\n",
    "    history['G_loss'].append(G_loss)\n",
    "    \n",
    "    # 特定のエポックでGeneratorから画像を生成してモデルも保存\n",
    "    if epoch == 0 or epoch == 9 or epoch == 24:\n",
    "        generate(epoch + 1, G, log_dir)\n",
    "        torch.save(G.state_dict(), os.path.join(log_dir, 'G_%03d.pth' % (epoch + 1)))\n",
    "        torch.save(D.state_dict(), os.path.join(log_dir, 'D_%03d.pth' % (epoch + 1)))\n",
    "\n",
    "# 学習履歴を保存\n",
    "with open(os.path.join(log_dir, 'history.pkl'), 'wb') as f:\n",
    "    pickle.dump(history, f)"
   ]
  },
  {
   "cell_type": "code",
   "execution_count": 8,
   "metadata": {
    "id": "ujfRZb0nyD95"
   },
   "outputs": [],
   "source": [
    "sample_z = torch.rand((64, z_dim))\n",
    "sample_z = sample_z.to(device)\n",
    "\n",
    "# Generatorでサンプル生成\n",
    "with torch.no_grad():\n",
    "    samples = G(sample_z).to('cpu')\n",
    "\n",
    "samples = samples.view(64, 28, 28).detach().cpu().numpy()"
   ]
  },
  {
   "cell_type": "code",
   "execution_count": 9,
   "metadata": {
    "id": "j5APp70r3PEN"
   },
   "outputs": [
    {
     "name": "stdout",
     "output_type": "stream",
     "text": [
      "(64, 28, 28)\n"
     ]
    }
   ],
   "source": [
    "print(samples.shape)"
   ]
  },
  {
   "cell_type": "code",
   "execution_count": 10,
   "metadata": {
    "id": "eujJuxBy3QOz"
   },
   "outputs": [
    {
     "data": {
      "image/png": "[encoded data removed]",
      "text/plain": [
       "<Figure size 1296x1296 with 10 Axes>"
      ]
     },
     "metadata": {
      "needs_background": "light"
     },
     "output_type": "display_data"
    }
   ],
   "source": [
    "plt.figure(figsize=(18,18))\n",
    "samples = samples[:N]\n",
    "for i in range(N):\n",
    "  plt.subplot(1,N,i+1); plt.imshow(samples[i], \"gray\")\n",
    "plt.show()"
   ]
  },
  {
   "cell_type": "code",
   "execution_count": null,
   "metadata": {
    "id": "YIVjG5mV3Xng"
   },
   "outputs": [],
   "source": []
  }
 ],
 "metadata": {
  "colab": {
   "authorship_tag": "ABX9TyOdMm7sdbu2Et+J7/pFUkuV",
   "collapsed_sections": [],
   "name": "exercise5.ipynb",
   "provenance": []
  },
  "kernelspec": {
   "display_name": "Python 3",
   "language": "python",
   "name": "python3"
  },
  "language_info": {
   "codemirror_mode": {
    "name": "ipython",
    "version": 3
   },
   "file_extension": ".py",
   "mimetype": "text/x-python",
   "name": "python",
   "nbconvert_exporter": "python",
   "pygments_lexer": "ipython3",
   "version": "3.8.0"
  }
 },
 "nbformat": 4,
 "nbformat_minor": 4
}
